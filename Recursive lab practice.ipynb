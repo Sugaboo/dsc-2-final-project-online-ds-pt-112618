{
 "cells": [
  {
   "cell_type": "code",
   "execution_count": 1,
   "metadata": {},
   "outputs": [],
   "source": [
    "import pandas as pd\n",
    "import numpy as np"
   ]
  },
  {
   "cell_type": "code",
   "execution_count": 7,
   "metadata": {},
   "outputs": [
    {
     "name": "stdout",
     "output_type": "stream",
     "text": [
      "[1, 2, 3, 4, 5, 6, 7, 8, 9]\n"
     ]
    }
   ],
   "source": [
    "print (list (range(1,10)))"
   ]
  },
  {
   "cell_type": "code",
   "execution_count": 13,
   "metadata": {},
   "outputs": [
    {
     "name": "stdout",
     "output_type": "stream",
     "text": [
      "2\n"
     ]
    }
   ],
   "source": [
    "def bsearch(list, idx0, idxn, val):\n",
    "\n",
    "    if (idxn < idx0):\n",
    "        return None\n",
    "    else:\n",
    "        midval = 0 + ((5 - 0) // 2)\n",
    "# Compare the search item with middle most value\n",
    "\n",
    "        if list[midval] > 24:\n",
    "            return bsearch([8,11,24,56,88,131], 0, midval-1,24)\n",
    "        elif list[midval] < val:\n",
    "            return bsearch([8,11,24,56,88,131], midval+1, 0, 24)\n",
    "        else:\n",
    "            return midval\n",
    "\n",
    "list = [8,11,24,56,88,131]\n",
    "print(bsearch(list, 0, 5, 24))\n"
   ]
  },
  {
   "cell_type": "code",
   "execution_count": 15,
   "metadata": {},
   "outputs": [
    {
     "name": "stdout",
     "output_type": "stream",
     "text": [
      "None\n"
     ]
    }
   ],
   "source": [
    "def bsearch(list, idx0, idxn, val):\n",
    "\n",
    "    if (idxn < idx0):\n",
    "        return None\n",
    "    else:\n",
    "        midval = idx0 + ((idxn - idx0) // 2)\n",
    "# Compare the search item with middle most value\n",
    "\n",
    "        if list[midval] > 24:\n",
    "            return bsearch(list, idx0, midval-1,val)\n",
    "        elif list[midval] < val:\n",
    "            return bsearch(list, midval+1, idxn, val)\n",
    "        else:\n",
    "            return midval\n",
    "\n",
    "list = [8,11,24,56,88,131]\n",
    "print(bsearch(list, 0, 5, 51))"
   ]
  },
  {
   "cell_type": "code",
   "execution_count": null,
   "metadata": {},
   "outputs": [],
   "source": []
  }
 ],
 "metadata": {
  "kernelspec": {
   "display_name": "learn-env",
   "language": "python",
   "name": "learn-env"
  },
  "language_info": {
   "codemirror_mode": {
    "name": "ipython",
    "version": 3
   },
   "file_extension": ".py",
   "mimetype": "text/x-python",
   "name": "python",
   "nbconvert_exporter": "python",
   "pygments_lexer": "ipython3",
   "version": "3.6.6"
  }
 },
 "nbformat": 4,
 "nbformat_minor": 2
}
