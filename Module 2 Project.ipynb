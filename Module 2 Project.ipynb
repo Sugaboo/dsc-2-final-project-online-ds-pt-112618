{
 "cells": [
  {
   "cell_type": "markdown",
   "metadata": {},
   "source": [
    "# Module 2 Project - Northwind Analysis / SQL "
   ]
  },
  {
   "cell_type": "markdown",
   "metadata": {},
   "source": [
    "- Student name: LaShanni Butler\n",
    "- Student pace: part time\n",
    "- Scheduled project review date/time: 3/22/19 at 2:15pm PST\n",
    "- Instructor name: Jeff Herman"
   ]
  },
  {
   "cell_type": "markdown",
   "metadata": {},
   "source": [
    "---"
   ]
  },
  {
   "cell_type": "markdown",
   "metadata": {},
   "source": [
    "## Importing the libraries and databases"
   ]
  },
  {
   "cell_type": "code",
   "execution_count": 2,
   "metadata": {},
   "outputs": [],
   "source": [
    "# Importing required libraries\n",
    "import pandas as pd\n",
    "import numpy as np\n",
    "import matplotlib.pyplot as plt\n",
    "import seaborn as sns\n",
    "%matplotlib inline\n",
    "import sqlalchemy\n",
    "from sqlalchemy import create_engine\n",
    "from sqlalchemy.orm import Session, sessionmaker\n",
    "from sqlalchemy import inspect\n",
    "from scipy import stats\n",
    "import statsmodels.api as sm\n",
    "from statsmodels.formula.api import ols\n",
    "from matplotlib.dates import DateFormatter\n",
    "import matplotlib.dates as mdates\n",
    "import warnings\n",
    "warnings.filterwarnings('ignore') # hide matplotlib warnings"
   ]
  },
  {
   "cell_type": "code",
   "execution_count": 3,
   "metadata": {},
   "outputs": [],
   "source": [
    "# Creating an engine and connecting to a database with SQLAlchemy\n",
    "engine = create_engine(\"sqlite:///Northwind_small.sqlite\", echo=False)\n",
    "Session = sessionmaker(bind=engine)\n",
    "session = Session()\n",
    "con = engine.connect()"
   ]
  },
  {
   "cell_type": "markdown",
   "metadata": {},
   "source": [
    "\n",
    "Comparing schema table vs. table names"
   ]
  },
  {
   "cell_type": "code",
   "execution_count": 4,
   "metadata": {},
   "outputs": [
    {
     "name": "stdout",
     "output_type": "stream",
     "text": [
      "['Category', 'Customer', 'CustomerCustomerDemo', 'CustomerDemographic', 'Employee', 'EmployeeTerritory', 'Order', 'OrderDetail', 'Product', 'Region', 'Shipper', 'Supplier', 'Territory']\n"
     ]
    }
   ],
   "source": [
    "inspector = inspect(engine)\n",
    "print(inspector.get_table_names())"
   ]
  },
  {
   "cell_type": "markdown",
   "metadata": {},
   "source": [
    "<img src='Northwind_ERD.png'>"
   ]
  },
  {
   "cell_type": "markdown",
   "metadata": {},
   "source": [
    "The number of schema names and table names show 13 tables total."
   ]
  },
  {
   "cell_type": "markdown",
   "metadata": {},
   "source": [
    "To analyze the SQL schema, I'll convert them into a Pandas dataframe"
   ]
  },
  {
   "cell_type": "code",
   "execution_count": 5,
   "metadata": {},
   "outputs": [],
   "source": [
    "#convert sql tables into pandas dataframes\n",
    "dfEmployee = pd.read_sql('SELECT * FROM [employee]', engine)\n",
    "dfCategory = pd.read_sql('SELECT * FROM [category]', engine)\n",
    "dfCustomer = pd.read_sql('SELECT * FROM [customer]', engine)\n",
    "dfShipper = pd.read_sql('SELECT * FROM [shipper]', engine)\n",
    "dfSupplier = pd.read_sql('SELECT * FROM [supplier]', engine)\n",
    "dfOrder = pd.read_sql('SELECT * FROM [order]', engine)\n",
    "dfProduct = pd.read_sql('SELECT * FROM [product]', engine)\n",
    "dfOrderDetail = pd.read_sql('SELECT * FROM [orderdetail]', engine)\n",
    "dfCustomerCustomerDemo = pd.read_sql('SELECT * FROM [customercustomerdemo]', engine)\n",
    "dfCustomerDemographic = pd.read_sql('SELECT * FROM [customerdemographic]', engine)\n",
    "dfRegion = pd.read_sql('SELECT * FROM [region]', engine)\n",
    "dfTerritory = pd.read_sql('SELECT * FROM [territory]', engine)\n",
    "dfEmployeeTerritory = pd.read_sql('SELECT * FROM [employeeterritory]', engine)\n"
   ]
  },
  {
   "cell_type": "markdown",
   "metadata": {},
   "source": [
    "---"
   ]
  },
  {
   "cell_type": "markdown",
   "metadata": {},
   "source": [
    "## Part 1: EDA - What is Northwind exactly?  "
   ]
  },
  {
   "cell_type": "code",
   "execution_count": 6,
   "metadata": {},
   "outputs": [
    {
     "data": {
      "text/html": [
       "<div>\n",
       "<style scoped>\n",
       "    .dataframe tbody tr th:only-of-type {\n",
       "        vertical-align: middle;\n",
       "    }\n",
       "\n",
       "    .dataframe tbody tr th {\n",
       "        vertical-align: top;\n",
       "    }\n",
       "\n",
       "    .dataframe thead th {\n",
       "        text-align: right;\n",
       "    }\n",
       "</style>\n",
       "<table border=\"1\" class=\"dataframe\">\n",
       "  <thead>\n",
       "    <tr style=\"text-align: right;\">\n",
       "      <th></th>\n",
       "      <th>Id</th>\n",
       "      <th>CategoryName</th>\n",
       "      <th>Description</th>\n",
       "    </tr>\n",
       "  </thead>\n",
       "  <tbody>\n",
       "    <tr>\n",
       "      <th>0</th>\n",
       "      <td>1</td>\n",
       "      <td>Beverages</td>\n",
       "      <td>Soft drinks, coffees, teas, beers, and ales</td>\n",
       "    </tr>\n",
       "    <tr>\n",
       "      <th>1</th>\n",
       "      <td>2</td>\n",
       "      <td>Condiments</td>\n",
       "      <td>Sweet and savory sauces, relishes, spreads, an...</td>\n",
       "    </tr>\n",
       "    <tr>\n",
       "      <th>2</th>\n",
       "      <td>3</td>\n",
       "      <td>Confections</td>\n",
       "      <td>Desserts, candies, and sweet breads</td>\n",
       "    </tr>\n",
       "    <tr>\n",
       "      <th>3</th>\n",
       "      <td>4</td>\n",
       "      <td>Dairy Products</td>\n",
       "      <td>Cheeses</td>\n",
       "    </tr>\n",
       "    <tr>\n",
       "      <th>4</th>\n",
       "      <td>5</td>\n",
       "      <td>Grains/Cereals</td>\n",
       "      <td>Breads, crackers, pasta, and cereal</td>\n",
       "    </tr>\n",
       "  </tbody>\n",
       "</table>\n",
       "</div>"
      ],
      "text/plain": [
       "   Id    CategoryName                                        Description\n",
       "0   1       Beverages        Soft drinks, coffees, teas, beers, and ales\n",
       "1   2      Condiments  Sweet and savory sauces, relishes, spreads, an...\n",
       "2   3     Confections                Desserts, candies, and sweet breads\n",
       "3   4  Dairy Products                                            Cheeses\n",
       "4   5  Grains/Cereals                Breads, crackers, pasta, and cereal"
      ]
     },
     "execution_count": 6,
     "metadata": {},
     "output_type": "execute_result"
    }
   ],
   "source": [
    "# A look at what prodcuts Northwind sells\n",
    "dfCategory.head()"
   ]
  },
  {
   "cell_type": "code",
   "execution_count": 7,
   "metadata": {},
   "outputs": [
    {
     "data": {
      "text/html": [
       "<div>\n",
       "<style scoped>\n",
       "    .dataframe tbody tr th:only-of-type {\n",
       "        vertical-align: middle;\n",
       "    }\n",
       "\n",
       "    .dataframe tbody tr th {\n",
       "        vertical-align: top;\n",
       "    }\n",
       "\n",
       "    .dataframe thead th {\n",
       "        text-align: right;\n",
       "    }\n",
       "</style>\n",
       "<table border=\"1\" class=\"dataframe\">\n",
       "  <thead>\n",
       "    <tr style=\"text-align: right;\">\n",
       "      <th></th>\n",
       "      <th>Id</th>\n",
       "      <th>CategoryName</th>\n",
       "      <th>Description</th>\n",
       "    </tr>\n",
       "  </thead>\n",
       "  <tbody>\n",
       "    <tr>\n",
       "      <th>3</th>\n",
       "      <td>4</td>\n",
       "      <td>Dairy Products</td>\n",
       "      <td>Cheeses</td>\n",
       "    </tr>\n",
       "    <tr>\n",
       "      <th>4</th>\n",
       "      <td>5</td>\n",
       "      <td>Grains/Cereals</td>\n",
       "      <td>Breads, crackers, pasta, and cereal</td>\n",
       "    </tr>\n",
       "    <tr>\n",
       "      <th>5</th>\n",
       "      <td>6</td>\n",
       "      <td>Meat/Poultry</td>\n",
       "      <td>Prepared meats</td>\n",
       "    </tr>\n",
       "    <tr>\n",
       "      <th>6</th>\n",
       "      <td>7</td>\n",
       "      <td>Produce</td>\n",
       "      <td>Dried fruit and bean curd</td>\n",
       "    </tr>\n",
       "    <tr>\n",
       "      <th>7</th>\n",
       "      <td>8</td>\n",
       "      <td>Seafood</td>\n",
       "      <td>Seaweed and fish</td>\n",
       "    </tr>\n",
       "  </tbody>\n",
       "</table>\n",
       "</div>"
      ],
      "text/plain": [
       "   Id    CategoryName                          Description\n",
       "3   4  Dairy Products                              Cheeses\n",
       "4   5  Grains/Cereals  Breads, crackers, pasta, and cereal\n",
       "5   6    Meat/Poultry                       Prepared meats\n",
       "6   7         Produce            Dried fruit and bean curd\n",
       "7   8         Seafood                     Seaweed and fish"
      ]
     },
     "execution_count": 7,
     "metadata": {},
     "output_type": "execute_result"
    }
   ],
   "source": [
    "dfCategory.tail()"
   ]
  },
  {
   "cell_type": "markdown",
   "metadata": {},
   "source": [
    "**Northwind appears to be a food distributor**"
   ]
  },
  {
   "cell_type": "markdown",
   "metadata": {},
   "source": [
    "&nbsp;"
   ]
  },
  {
   "cell_type": "code",
   "execution_count": 8,
   "metadata": {
    "scrolled": true
   },
   "outputs": [
    {
     "data": {
      "text/html": [
       "<div>\n",
       "<style scoped>\n",
       "    .dataframe tbody tr th:only-of-type {\n",
       "        vertical-align: middle;\n",
       "    }\n",
       "\n",
       "    .dataframe tbody tr th {\n",
       "        vertical-align: top;\n",
       "    }\n",
       "\n",
       "    .dataframe thead th {\n",
       "        text-align: right;\n",
       "    }\n",
       "</style>\n",
       "<table border=\"1\" class=\"dataframe\">\n",
       "  <thead>\n",
       "    <tr style=\"text-align: right;\">\n",
       "      <th></th>\n",
       "      <th>Id</th>\n",
       "      <th>RegionDescription</th>\n",
       "    </tr>\n",
       "  </thead>\n",
       "  <tbody>\n",
       "    <tr>\n",
       "      <th>0</th>\n",
       "      <td>1</td>\n",
       "      <td>Eastern</td>\n",
       "    </tr>\n",
       "    <tr>\n",
       "      <th>1</th>\n",
       "      <td>2</td>\n",
       "      <td>Western</td>\n",
       "    </tr>\n",
       "    <tr>\n",
       "      <th>2</th>\n",
       "      <td>3</td>\n",
       "      <td>Northern</td>\n",
       "    </tr>\n",
       "    <tr>\n",
       "      <th>3</th>\n",
       "      <td>4</td>\n",
       "      <td>Southern</td>\n",
       "    </tr>\n",
       "  </tbody>\n",
       "</table>\n",
       "</div>"
      ],
      "text/plain": [
       "   Id RegionDescription\n",
       "0   1           Eastern\n",
       "1   2           Western\n",
       "2   3          Northern\n",
       "3   4          Southern"
      ]
     },
     "execution_count": 8,
     "metadata": {},
     "output_type": "execute_result"
    }
   ],
   "source": [
    "# Checking out the regions Northwind covers\n",
    "dfRegion.head()"
   ]
  },
  {
   "cell_type": "code",
   "execution_count": 9,
   "metadata": {},
   "outputs": [
    {
     "data": {
      "text/html": [
       "<div>\n",
       "<style scoped>\n",
       "    .dataframe tbody tr th:only-of-type {\n",
       "        vertical-align: middle;\n",
       "    }\n",
       "\n",
       "    .dataframe tbody tr th {\n",
       "        vertical-align: top;\n",
       "    }\n",
       "\n",
       "    .dataframe thead th {\n",
       "        text-align: right;\n",
       "    }\n",
       "</style>\n",
       "<table border=\"1\" class=\"dataframe\">\n",
       "  <thead>\n",
       "    <tr style=\"text-align: right;\">\n",
       "      <th></th>\n",
       "      <th>Id</th>\n",
       "      <th>TerritoryDescription</th>\n",
       "      <th>RegionId</th>\n",
       "    </tr>\n",
       "  </thead>\n",
       "  <tbody>\n",
       "    <tr>\n",
       "      <th>0</th>\n",
       "      <td>01581</td>\n",
       "      <td>Westboro</td>\n",
       "      <td>1</td>\n",
       "    </tr>\n",
       "    <tr>\n",
       "      <th>1</th>\n",
       "      <td>01730</td>\n",
       "      <td>Bedford</td>\n",
       "      <td>1</td>\n",
       "    </tr>\n",
       "    <tr>\n",
       "      <th>2</th>\n",
       "      <td>01833</td>\n",
       "      <td>Georgetow</td>\n",
       "      <td>1</td>\n",
       "    </tr>\n",
       "    <tr>\n",
       "      <th>3</th>\n",
       "      <td>02116</td>\n",
       "      <td>Boston</td>\n",
       "      <td>1</td>\n",
       "    </tr>\n",
       "    <tr>\n",
       "      <th>4</th>\n",
       "      <td>02139</td>\n",
       "      <td>Cambridge</td>\n",
       "      <td>1</td>\n",
       "    </tr>\n",
       "  </tbody>\n",
       "</table>\n",
       "</div>"
      ],
      "text/plain": [
       "      Id TerritoryDescription  RegionId\n",
       "0  01581             Westboro         1\n",
       "1  01730              Bedford         1\n",
       "2  01833            Georgetow         1\n",
       "3  02116               Boston         1\n",
       "4  02139            Cambridge         1"
      ]
     },
     "execution_count": 9,
     "metadata": {},
     "output_type": "execute_result"
    }
   ],
   "source": [
    "dfTerritory.head()"
   ]
  },
  {
   "cell_type": "code",
   "execution_count": 10,
   "metadata": {},
   "outputs": [
    {
     "data": {
      "text/html": [
       "<div>\n",
       "<style scoped>\n",
       "    .dataframe tbody tr th:only-of-type {\n",
       "        vertical-align: middle;\n",
       "    }\n",
       "\n",
       "    .dataframe tbody tr th {\n",
       "        vertical-align: top;\n",
       "    }\n",
       "\n",
       "    .dataframe thead th {\n",
       "        text-align: right;\n",
       "    }\n",
       "</style>\n",
       "<table border=\"1\" class=\"dataframe\">\n",
       "  <thead>\n",
       "    <tr style=\"text-align: right;\">\n",
       "      <th></th>\n",
       "      <th>CategoryName</th>\n",
       "      <th>Products</th>\n",
       "      <th>Revenue</th>\n",
       "    </tr>\n",
       "  </thead>\n",
       "  <tbody>\n",
       "    <tr>\n",
       "      <th>0</th>\n",
       "      <td>Beverages</td>\n",
       "      <td>12</td>\n",
       "      <td>267868.1800</td>\n",
       "    </tr>\n",
       "    <tr>\n",
       "      <th>1</th>\n",
       "      <td>Dairy Products</td>\n",
       "      <td>10</td>\n",
       "      <td>234507.2850</td>\n",
       "    </tr>\n",
       "    <tr>\n",
       "      <th>2</th>\n",
       "      <td>Confections</td>\n",
       "      <td>13</td>\n",
       "      <td>167357.2250</td>\n",
       "    </tr>\n",
       "    <tr>\n",
       "      <th>3</th>\n",
       "      <td>Meat/Poultry</td>\n",
       "      <td>6</td>\n",
       "      <td>163022.3595</td>\n",
       "    </tr>\n",
       "    <tr>\n",
       "      <th>4</th>\n",
       "      <td>Seafood</td>\n",
       "      <td>12</td>\n",
       "      <td>131261.7375</td>\n",
       "    </tr>\n",
       "    <tr>\n",
       "      <th>5</th>\n",
       "      <td>Condiments</td>\n",
       "      <td>12</td>\n",
       "      <td>106047.0850</td>\n",
       "    </tr>\n",
       "    <tr>\n",
       "      <th>6</th>\n",
       "      <td>Produce</td>\n",
       "      <td>5</td>\n",
       "      <td>99984.5800</td>\n",
       "    </tr>\n",
       "    <tr>\n",
       "      <th>7</th>\n",
       "      <td>Grains/Cereals</td>\n",
       "      <td>7</td>\n",
       "      <td>95744.5875</td>\n",
       "    </tr>\n",
       "  </tbody>\n",
       "</table>\n",
       "</div>"
      ],
      "text/plain": [
       "     CategoryName  Products      Revenue\n",
       "0       Beverages        12  267868.1800\n",
       "1  Dairy Products        10  234507.2850\n",
       "2     Confections        13  167357.2250\n",
       "3    Meat/Poultry         6  163022.3595\n",
       "4         Seafood        12  131261.7375\n",
       "5      Condiments        12  106047.0850\n",
       "6         Produce         5   99984.5800\n",
       "7  Grains/Cereals         7   95744.5875"
      ]
     },
     "execution_count": 10,
     "metadata": {},
     "output_type": "execute_result"
    }
   ],
   "source": [
    "# I'd like to check their revenue sales for their products\n",
    "cat_rev = pd.read_sql_query('''SELECT ca.CategoryName,\n",
    "                                COUNT(DISTINCT p.ProductName) Products,\n",
    "                                SUM((od.UnitPrice * (1 - od.Discount) * od.Quantity)) Revenue\n",
    "                                FROM OrderDetail od\n",
    "                                JOIN Product p ON od.ProductId = p.Id\n",
    "                                JOIN Category ca ON p.CategoryId = ca.Id\n",
    "                                GROUP BY ca.CategoryName\n",
    "                                ORDER BY Revenue DESC\n",
    "                            ''', engine)\n",
    "cat_rev"
   ]
  },
  {
   "cell_type": "code",
   "execution_count": 11,
   "metadata": {},
   "outputs": [
    {
     "name": "stdout",
     "output_type": "stream",
     "text": [
      "77 products sold.\n"
     ]
    }
   ],
   "source": [
    "print(cat_rev['Products'].sum(), 'products sold.')"
   ]
  },
  {
   "cell_type": "markdown",
   "metadata": {},
   "source": [
    "**It seems Northwind sold 77 different types of products and Beverages and Dairy Products are the top sellers to their customer base.**"
   ]
  },
  {
   "cell_type": "markdown",
   "metadata": {},
   "source": [
    "&nbsp;"
   ]
  },
  {
   "cell_type": "code",
   "execution_count": 12,
   "metadata": {},
   "outputs": [
    {
     "data": {
      "text/html": [
       "<div>\n",
       "<style scoped>\n",
       "    .dataframe tbody tr th:only-of-type {\n",
       "        vertical-align: middle;\n",
       "    }\n",
       "\n",
       "    .dataframe tbody tr th {\n",
       "        vertical-align: top;\n",
       "    }\n",
       "\n",
       "    .dataframe thead th {\n",
       "        text-align: right;\n",
       "    }\n",
       "</style>\n",
       "<table border=\"1\" class=\"dataframe\">\n",
       "  <thead>\n",
       "    <tr style=\"text-align: right;\">\n",
       "      <th></th>\n",
       "      <th>Id</th>\n",
       "      <th>LastName</th>\n",
       "      <th>FirstName</th>\n",
       "      <th>Title</th>\n",
       "      <th>TitleOfCourtesy</th>\n",
       "      <th>BirthDate</th>\n",
       "      <th>HireDate</th>\n",
       "      <th>Address</th>\n",
       "      <th>City</th>\n",
       "      <th>Region</th>\n",
       "      <th>PostalCode</th>\n",
       "      <th>Country</th>\n",
       "      <th>HomePhone</th>\n",
       "      <th>Extension</th>\n",
       "      <th>Photo</th>\n",
       "      <th>Notes</th>\n",
       "      <th>ReportsTo</th>\n",
       "      <th>PhotoPath</th>\n",
       "    </tr>\n",
       "  </thead>\n",
       "  <tbody>\n",
       "    <tr>\n",
       "      <th>0</th>\n",
       "      <td>1</td>\n",
       "      <td>Davolio</td>\n",
       "      <td>Nancy</td>\n",
       "      <td>Sales Representative</td>\n",
       "      <td>Ms.</td>\n",
       "      <td>1980-12-08</td>\n",
       "      <td>2024-05-01</td>\n",
       "      <td>507 - 20th Ave. E. Apt. 2A</td>\n",
       "      <td>Seattle</td>\n",
       "      <td>North America</td>\n",
       "      <td>98122</td>\n",
       "      <td>USA</td>\n",
       "      <td>(206) 555-9857</td>\n",
       "      <td>5467</td>\n",
       "      <td>None</td>\n",
       "      <td>Education includes a BA in psychology from Col...</td>\n",
       "      <td>2.0</td>\n",
       "      <td>http://accweb/emmployees/davolio.bmp</td>\n",
       "    </tr>\n",
       "    <tr>\n",
       "      <th>1</th>\n",
       "      <td>2</td>\n",
       "      <td>Fuller</td>\n",
       "      <td>Andrew</td>\n",
       "      <td>Vice President, Sales</td>\n",
       "      <td>Dr.</td>\n",
       "      <td>1984-02-19</td>\n",
       "      <td>2024-08-14</td>\n",
       "      <td>908 W. Capital Way</td>\n",
       "      <td>Tacoma</td>\n",
       "      <td>North America</td>\n",
       "      <td>98401</td>\n",
       "      <td>USA</td>\n",
       "      <td>(206) 555-9482</td>\n",
       "      <td>3457</td>\n",
       "      <td>None</td>\n",
       "      <td>Andrew received his BTS commercial in 1974 and...</td>\n",
       "      <td>NaN</td>\n",
       "      <td>http://accweb/emmployees/fuller.bmp</td>\n",
       "    </tr>\n",
       "    <tr>\n",
       "      <th>2</th>\n",
       "      <td>3</td>\n",
       "      <td>Leverling</td>\n",
       "      <td>Janet</td>\n",
       "      <td>Sales Representative</td>\n",
       "      <td>Ms.</td>\n",
       "      <td>1995-08-30</td>\n",
       "      <td>2024-04-01</td>\n",
       "      <td>722 Moss Bay Blvd.</td>\n",
       "      <td>Kirkland</td>\n",
       "      <td>North America</td>\n",
       "      <td>98033</td>\n",
       "      <td>USA</td>\n",
       "      <td>(206) 555-3412</td>\n",
       "      <td>3355</td>\n",
       "      <td>None</td>\n",
       "      <td>Janet has a BS degree in chemistry from Boston...</td>\n",
       "      <td>2.0</td>\n",
       "      <td>http://accweb/emmployees/leverling.bmp</td>\n",
       "    </tr>\n",
       "    <tr>\n",
       "      <th>3</th>\n",
       "      <td>4</td>\n",
       "      <td>Peacock</td>\n",
       "      <td>Margaret</td>\n",
       "      <td>Sales Representative</td>\n",
       "      <td>Mrs.</td>\n",
       "      <td>1969-09-19</td>\n",
       "      <td>2025-05-03</td>\n",
       "      <td>4110 Old Redmond Rd.</td>\n",
       "      <td>Redmond</td>\n",
       "      <td>North America</td>\n",
       "      <td>98052</td>\n",
       "      <td>USA</td>\n",
       "      <td>(206) 555-8122</td>\n",
       "      <td>5176</td>\n",
       "      <td>None</td>\n",
       "      <td>Margaret holds a BA in English literature from...</td>\n",
       "      <td>2.0</td>\n",
       "      <td>http://accweb/emmployees/peacock.bmp</td>\n",
       "    </tr>\n",
       "    <tr>\n",
       "      <th>4</th>\n",
       "      <td>5</td>\n",
       "      <td>Buchanan</td>\n",
       "      <td>Steven</td>\n",
       "      <td>Sales Manager</td>\n",
       "      <td>Mr.</td>\n",
       "      <td>1987-03-04</td>\n",
       "      <td>2025-10-17</td>\n",
       "      <td>14 Garrett Hill</td>\n",
       "      <td>London</td>\n",
       "      <td>British Isles</td>\n",
       "      <td>SW1 8JR</td>\n",
       "      <td>UK</td>\n",
       "      <td>(71) 555-4848</td>\n",
       "      <td>3453</td>\n",
       "      <td>None</td>\n",
       "      <td>Steven Buchanan graduated from St. Andrews Uni...</td>\n",
       "      <td>2.0</td>\n",
       "      <td>http://accweb/emmployees/buchanan.bmp</td>\n",
       "    </tr>\n",
       "  </tbody>\n",
       "</table>\n",
       "</div>"
      ],
      "text/plain": [
       "   Id   LastName FirstName                  Title TitleOfCourtesy   BirthDate  \\\n",
       "0   1    Davolio     Nancy   Sales Representative             Ms.  1980-12-08   \n",
       "1   2     Fuller    Andrew  Vice President, Sales             Dr.  1984-02-19   \n",
       "2   3  Leverling     Janet   Sales Representative             Ms.  1995-08-30   \n",
       "3   4    Peacock  Margaret   Sales Representative            Mrs.  1969-09-19   \n",
       "4   5   Buchanan    Steven          Sales Manager             Mr.  1987-03-04   \n",
       "\n",
       "     HireDate                     Address      City         Region PostalCode  \\\n",
       "0  2024-05-01  507 - 20th Ave. E. Apt. 2A   Seattle  North America      98122   \n",
       "1  2024-08-14          908 W. Capital Way    Tacoma  North America      98401   \n",
       "2  2024-04-01          722 Moss Bay Blvd.  Kirkland  North America      98033   \n",
       "3  2025-05-03        4110 Old Redmond Rd.   Redmond  North America      98052   \n",
       "4  2025-10-17             14 Garrett Hill    London  British Isles    SW1 8JR   \n",
       "\n",
       "  Country       HomePhone Extension Photo  \\\n",
       "0     USA  (206) 555-9857      5467  None   \n",
       "1     USA  (206) 555-9482      3457  None   \n",
       "2     USA  (206) 555-3412      3355  None   \n",
       "3     USA  (206) 555-8122      5176  None   \n",
       "4      UK   (71) 555-4848      3453  None   \n",
       "\n",
       "                                               Notes  ReportsTo  \\\n",
       "0  Education includes a BA in psychology from Col...        2.0   \n",
       "1  Andrew received his BTS commercial in 1974 and...        NaN   \n",
       "2  Janet has a BS degree in chemistry from Boston...        2.0   \n",
       "3  Margaret holds a BA in English literature from...        2.0   \n",
       "4  Steven Buchanan graduated from St. Andrews Uni...        2.0   \n",
       "\n",
       "                                PhotoPath  \n",
       "0    http://accweb/emmployees/davolio.bmp  \n",
       "1     http://accweb/emmployees/fuller.bmp  \n",
       "2  http://accweb/emmployees/leverling.bmp  \n",
       "3    http://accweb/emmployees/peacock.bmp  \n",
       "4   http://accweb/emmployees/buchanan.bmp  "
      ]
     },
     "execution_count": 12,
     "metadata": {},
     "output_type": "execute_result"
    }
   ],
   "source": [
    "# I wanted to see how many employees work at Northwind\n",
    "dfEmployee.head()"
   ]
  },
  {
   "cell_type": "code",
   "execution_count": 13,
   "metadata": {},
   "outputs": [
    {
     "data": {
      "text/html": [
       "<div>\n",
       "<style scoped>\n",
       "    .dataframe tbody tr th:only-of-type {\n",
       "        vertical-align: middle;\n",
       "    }\n",
       "\n",
       "    .dataframe tbody tr th {\n",
       "        vertical-align: top;\n",
       "    }\n",
       "\n",
       "    .dataframe thead th {\n",
       "        text-align: right;\n",
       "    }\n",
       "</style>\n",
       "<table border=\"1\" class=\"dataframe\">\n",
       "  <thead>\n",
       "    <tr style=\"text-align: right;\">\n",
       "      <th></th>\n",
       "      <th>Id</th>\n",
       "      <th>LastName</th>\n",
       "      <th>FirstName</th>\n",
       "      <th>Title</th>\n",
       "      <th>TitleOfCourtesy</th>\n",
       "      <th>BirthDate</th>\n",
       "      <th>HireDate</th>\n",
       "      <th>Address</th>\n",
       "      <th>City</th>\n",
       "      <th>Region</th>\n",
       "      <th>PostalCode</th>\n",
       "      <th>Country</th>\n",
       "      <th>HomePhone</th>\n",
       "      <th>Extension</th>\n",
       "      <th>Photo</th>\n",
       "      <th>Notes</th>\n",
       "      <th>ReportsTo</th>\n",
       "      <th>PhotoPath</th>\n",
       "    </tr>\n",
       "  </thead>\n",
       "  <tbody>\n",
       "    <tr>\n",
       "      <th>4</th>\n",
       "      <td>5</td>\n",
       "      <td>Buchanan</td>\n",
       "      <td>Steven</td>\n",
       "      <td>Sales Manager</td>\n",
       "      <td>Mr.</td>\n",
       "      <td>1987-03-04</td>\n",
       "      <td>2025-10-17</td>\n",
       "      <td>14 Garrett Hill</td>\n",
       "      <td>London</td>\n",
       "      <td>British Isles</td>\n",
       "      <td>SW1 8JR</td>\n",
       "      <td>UK</td>\n",
       "      <td>(71) 555-4848</td>\n",
       "      <td>3453</td>\n",
       "      <td>None</td>\n",
       "      <td>Steven Buchanan graduated from St. Andrews Uni...</td>\n",
       "      <td>2.0</td>\n",
       "      <td>http://accweb/emmployees/buchanan.bmp</td>\n",
       "    </tr>\n",
       "    <tr>\n",
       "      <th>5</th>\n",
       "      <td>6</td>\n",
       "      <td>Suyama</td>\n",
       "      <td>Michael</td>\n",
       "      <td>Sales Representative</td>\n",
       "      <td>Mr.</td>\n",
       "      <td>1995-07-02</td>\n",
       "      <td>2025-10-17</td>\n",
       "      <td>Coventry House Miner Rd.</td>\n",
       "      <td>London</td>\n",
       "      <td>British Isles</td>\n",
       "      <td>EC2 7JR</td>\n",
       "      <td>UK</td>\n",
       "      <td>(71) 555-7773</td>\n",
       "      <td>428</td>\n",
       "      <td>None</td>\n",
       "      <td>Michael is a graduate of Sussex University (MA...</td>\n",
       "      <td>5.0</td>\n",
       "      <td>http://accweb/emmployees/davolio.bmp</td>\n",
       "    </tr>\n",
       "    <tr>\n",
       "      <th>6</th>\n",
       "      <td>7</td>\n",
       "      <td>King</td>\n",
       "      <td>Robert</td>\n",
       "      <td>Sales Representative</td>\n",
       "      <td>Mr.</td>\n",
       "      <td>1992-05-29</td>\n",
       "      <td>2026-01-02</td>\n",
       "      <td>Edgeham Hollow Winchester Way</td>\n",
       "      <td>London</td>\n",
       "      <td>British Isles</td>\n",
       "      <td>RG1 9SP</td>\n",
       "      <td>UK</td>\n",
       "      <td>(71) 555-5598</td>\n",
       "      <td>465</td>\n",
       "      <td>None</td>\n",
       "      <td>Robert King served in the Peace Corps and trav...</td>\n",
       "      <td>5.0</td>\n",
       "      <td>http://accweb/emmployees/davolio.bmp</td>\n",
       "    </tr>\n",
       "    <tr>\n",
       "      <th>7</th>\n",
       "      <td>8</td>\n",
       "      <td>Callahan</td>\n",
       "      <td>Laura</td>\n",
       "      <td>Inside Sales Coordinator</td>\n",
       "      <td>Ms.</td>\n",
       "      <td>1990-01-09</td>\n",
       "      <td>2026-03-05</td>\n",
       "      <td>4726 - 11th Ave. N.E.</td>\n",
       "      <td>Seattle</td>\n",
       "      <td>North America</td>\n",
       "      <td>98105</td>\n",
       "      <td>USA</td>\n",
       "      <td>(206) 555-1189</td>\n",
       "      <td>2344</td>\n",
       "      <td>None</td>\n",
       "      <td>Laura received a BA in psychology from the Uni...</td>\n",
       "      <td>2.0</td>\n",
       "      <td>http://accweb/emmployees/davolio.bmp</td>\n",
       "    </tr>\n",
       "    <tr>\n",
       "      <th>8</th>\n",
       "      <td>9</td>\n",
       "      <td>Dodsworth</td>\n",
       "      <td>Anne</td>\n",
       "      <td>Sales Representative</td>\n",
       "      <td>Ms.</td>\n",
       "      <td>1998-01-27</td>\n",
       "      <td>2026-11-15</td>\n",
       "      <td>7 Houndstooth Rd.</td>\n",
       "      <td>London</td>\n",
       "      <td>British Isles</td>\n",
       "      <td>WG2 7LT</td>\n",
       "      <td>UK</td>\n",
       "      <td>(71) 555-4444</td>\n",
       "      <td>452</td>\n",
       "      <td>None</td>\n",
       "      <td>Anne has a BA degree in English from St. Lawre...</td>\n",
       "      <td>5.0</td>\n",
       "      <td>http://accweb/emmployees/davolio.bmp</td>\n",
       "    </tr>\n",
       "  </tbody>\n",
       "</table>\n",
       "</div>"
      ],
      "text/plain": [
       "   Id   LastName FirstName                     Title TitleOfCourtesy  \\\n",
       "4   5   Buchanan    Steven             Sales Manager             Mr.   \n",
       "5   6     Suyama   Michael      Sales Representative             Mr.   \n",
       "6   7       King    Robert      Sales Representative             Mr.   \n",
       "7   8   Callahan     Laura  Inside Sales Coordinator             Ms.   \n",
       "8   9  Dodsworth      Anne      Sales Representative             Ms.   \n",
       "\n",
       "    BirthDate    HireDate                        Address     City  \\\n",
       "4  1987-03-04  2025-10-17                14 Garrett Hill   London   \n",
       "5  1995-07-02  2025-10-17       Coventry House Miner Rd.   London   \n",
       "6  1992-05-29  2026-01-02  Edgeham Hollow Winchester Way   London   \n",
       "7  1990-01-09  2026-03-05          4726 - 11th Ave. N.E.  Seattle   \n",
       "8  1998-01-27  2026-11-15              7 Houndstooth Rd.   London   \n",
       "\n",
       "          Region PostalCode Country       HomePhone Extension Photo  \\\n",
       "4  British Isles    SW1 8JR      UK   (71) 555-4848      3453  None   \n",
       "5  British Isles    EC2 7JR      UK   (71) 555-7773       428  None   \n",
       "6  British Isles    RG1 9SP      UK   (71) 555-5598       465  None   \n",
       "7  North America      98105     USA  (206) 555-1189      2344  None   \n",
       "8  British Isles    WG2 7LT      UK   (71) 555-4444       452  None   \n",
       "\n",
       "                                               Notes  ReportsTo  \\\n",
       "4  Steven Buchanan graduated from St. Andrews Uni...        2.0   \n",
       "5  Michael is a graduate of Sussex University (MA...        5.0   \n",
       "6  Robert King served in the Peace Corps and trav...        5.0   \n",
       "7  Laura received a BA in psychology from the Uni...        2.0   \n",
       "8  Anne has a BA degree in English from St. Lawre...        5.0   \n",
       "\n",
       "                               PhotoPath  \n",
       "4  http://accweb/emmployees/buchanan.bmp  \n",
       "5   http://accweb/emmployees/davolio.bmp  \n",
       "6   http://accweb/emmployees/davolio.bmp  \n",
       "7   http://accweb/emmployees/davolio.bmp  \n",
       "8   http://accweb/emmployees/davolio.bmp  "
      ]
     },
     "execution_count": 13,
     "metadata": {},
     "output_type": "execute_result"
    }
   ],
   "source": [
    "dfEmployee.tail()"
   ]
  },
  {
   "cell_type": "code",
   "execution_count": 14,
   "metadata": {},
   "outputs": [
    {
     "data": {
      "text/html": [
       "<div>\n",
       "<style scoped>\n",
       "    .dataframe tbody tr th:only-of-type {\n",
       "        vertical-align: middle;\n",
       "    }\n",
       "\n",
       "    .dataframe tbody tr th {\n",
       "        vertical-align: top;\n",
       "    }\n",
       "\n",
       "    .dataframe thead th {\n",
       "        text-align: right;\n",
       "    }\n",
       "</style>\n",
       "<table border=\"1\" class=\"dataframe\">\n",
       "  <thead>\n",
       "    <tr style=\"text-align: right;\">\n",
       "      <th></th>\n",
       "      <th>Id</th>\n",
       "      <th>LastName</th>\n",
       "      <th>FirstName</th>\n",
       "      <th>Title</th>\n",
       "      <th>Office</th>\n",
       "      <th>Orders_fulfilled</th>\n",
       "      <th>Unit_quantities_sold</th>\n",
       "    </tr>\n",
       "  </thead>\n",
       "  <tbody>\n",
       "    <tr>\n",
       "      <th>0</th>\n",
       "      <td>5</td>\n",
       "      <td>Buchanan</td>\n",
       "      <td>Steven</td>\n",
       "      <td>Sales Manager</td>\n",
       "      <td>London</td>\n",
       "      <td>42</td>\n",
       "      <td>21252</td>\n",
       "    </tr>\n",
       "    <tr>\n",
       "      <th>1</th>\n",
       "      <td>8</td>\n",
       "      <td>Callahan</td>\n",
       "      <td>Laura</td>\n",
       "      <td>Inside Sales Coordinator</td>\n",
       "      <td>Seattle</td>\n",
       "      <td>104</td>\n",
       "      <td>23652</td>\n",
       "    </tr>\n",
       "    <tr>\n",
       "      <th>2</th>\n",
       "      <td>1</td>\n",
       "      <td>Davolio</td>\n",
       "      <td>Nancy</td>\n",
       "      <td>Sales Representative</td>\n",
       "      <td>Seattle</td>\n",
       "      <td>123</td>\n",
       "      <td>15624</td>\n",
       "    </tr>\n",
       "    <tr>\n",
       "      <th>3</th>\n",
       "      <td>9</td>\n",
       "      <td>Dodsworth</td>\n",
       "      <td>Anne</td>\n",
       "      <td>Sales Representative</td>\n",
       "      <td>London</td>\n",
       "      <td>43</td>\n",
       "      <td>18690</td>\n",
       "    </tr>\n",
       "    <tr>\n",
       "      <th>4</th>\n",
       "      <td>2</td>\n",
       "      <td>Fuller</td>\n",
       "      <td>Andrew</td>\n",
       "      <td>Vice President, Sales</td>\n",
       "      <td>Tacoma</td>\n",
       "      <td>96</td>\n",
       "      <td>42385</td>\n",
       "    </tr>\n",
       "    <tr>\n",
       "      <th>5</th>\n",
       "      <td>7</td>\n",
       "      <td>King</td>\n",
       "      <td>Robert</td>\n",
       "      <td>Sales Representative</td>\n",
       "      <td>London</td>\n",
       "      <td>72</td>\n",
       "      <td>46540</td>\n",
       "    </tr>\n",
       "    <tr>\n",
       "      <th>6</th>\n",
       "      <td>3</td>\n",
       "      <td>Leverling</td>\n",
       "      <td>Janet</td>\n",
       "      <td>Sales Representative</td>\n",
       "      <td>Kirkland</td>\n",
       "      <td>127</td>\n",
       "      <td>31408</td>\n",
       "    </tr>\n",
       "    <tr>\n",
       "      <th>7</th>\n",
       "      <td>4</td>\n",
       "      <td>Peacock</td>\n",
       "      <td>Margaret</td>\n",
       "      <td>Sales Representative</td>\n",
       "      <td>Redmond</td>\n",
       "      <td>156</td>\n",
       "      <td>29394</td>\n",
       "    </tr>\n",
       "    <tr>\n",
       "      <th>8</th>\n",
       "      <td>6</td>\n",
       "      <td>Suyama</td>\n",
       "      <td>Michael</td>\n",
       "      <td>Sales Representative</td>\n",
       "      <td>London</td>\n",
       "      <td>67</td>\n",
       "      <td>17635</td>\n",
       "    </tr>\n",
       "  </tbody>\n",
       "</table>\n",
       "</div>"
      ],
      "text/plain": [
       "   Id   LastName FirstName                     Title    Office  \\\n",
       "0   5   Buchanan    Steven             Sales Manager    London   \n",
       "1   8   Callahan     Laura  Inside Sales Coordinator   Seattle   \n",
       "2   1    Davolio     Nancy      Sales Representative   Seattle   \n",
       "3   9  Dodsworth      Anne      Sales Representative    London   \n",
       "4   2     Fuller    Andrew     Vice President, Sales    Tacoma   \n",
       "5   7       King    Robert      Sales Representative    London   \n",
       "6   3  Leverling     Janet      Sales Representative  Kirkland   \n",
       "7   4    Peacock  Margaret      Sales Representative   Redmond   \n",
       "8   6     Suyama   Michael      Sales Representative    London   \n",
       "\n",
       "   Orders_fulfilled  Unit_quantities_sold  \n",
       "0                42                 21252  \n",
       "1               104                 23652  \n",
       "2               123                 15624  \n",
       "3                43                 18690  \n",
       "4                96                 42385  \n",
       "5                72                 46540  \n",
       "6               127                 31408  \n",
       "7               156                 29394  \n",
       "8                67                 17635  "
      ]
     },
     "execution_count": 14,
     "metadata": {},
     "output_type": "execute_result"
    }
   ],
   "source": [
    "df = pd.read_sql_query('''SELECT e.Id, e.LastName, e.FirstName, e.Title, e.City Office, \n",
    "                            COUNT(DISTINCT od.OrderId) Orders_fulfilled,\n",
    "                            SUM(od.Quantity) Unit_quantities_sold\n",
    "                            FROM Employee e\n",
    "                            JOIN [Order] o ON e.Id = o.EmployeeId\n",
    "                            JOIN OrderDetail od ON o.Id = od.OrderId\n",
    "                            JOIN EmployeeTerritory et ON et.EmployeeId = e.Id\n",
    "                            JOIN Territory t on et.Territoryid = t.Id\n",
    "                            JOIN Region r on t.RegionId = r.Id\n",
    "                            GROUP BY e.Id\n",
    "                            ORDER BY LastName\n",
    "                        ''', engine)\n",
    "df"
   ]
  },
  {
   "cell_type": "markdown",
   "metadata": {},
   "source": [
    "**There's a total of 9 Northwind employees.  Four employees are in London and the remaining are in the US.**"
   ]
  },
  {
   "cell_type": "markdown",
   "metadata": {},
   "source": [
    "&nbsp;"
   ]
  },
  {
   "cell_type": "code",
   "execution_count": 15,
   "metadata": {},
   "outputs": [
    {
     "data": {
      "text/html": [
       "<div>\n",
       "<style scoped>\n",
       "    .dataframe tbody tr th:only-of-type {\n",
       "        vertical-align: middle;\n",
       "    }\n",
       "\n",
       "    .dataframe tbody tr th {\n",
       "        vertical-align: top;\n",
       "    }\n",
       "\n",
       "    .dataframe thead th {\n",
       "        text-align: right;\n",
       "    }\n",
       "</style>\n",
       "<table border=\"1\" class=\"dataframe\">\n",
       "  <thead>\n",
       "    <tr style=\"text-align: right;\">\n",
       "      <th></th>\n",
       "      <th>Id</th>\n",
       "      <th>CompanyName</th>\n",
       "      <th>ContactName</th>\n",
       "      <th>ContactTitle</th>\n",
       "      <th>Address</th>\n",
       "      <th>City</th>\n",
       "      <th>Region</th>\n",
       "      <th>PostalCode</th>\n",
       "      <th>Country</th>\n",
       "      <th>Phone</th>\n",
       "      <th>Fax</th>\n",
       "    </tr>\n",
       "  </thead>\n",
       "  <tbody>\n",
       "    <tr>\n",
       "      <th>0</th>\n",
       "      <td>ALFKI</td>\n",
       "      <td>Alfreds Futterkiste</td>\n",
       "      <td>Maria Anders</td>\n",
       "      <td>Sales Representative</td>\n",
       "      <td>Obere Str. 57</td>\n",
       "      <td>Berlin</td>\n",
       "      <td>Western Europe</td>\n",
       "      <td>12209</td>\n",
       "      <td>Germany</td>\n",
       "      <td>030-0074321</td>\n",
       "      <td>030-0076545</td>\n",
       "    </tr>\n",
       "    <tr>\n",
       "      <th>1</th>\n",
       "      <td>ANATR</td>\n",
       "      <td>Ana Trujillo Emparedados y helados</td>\n",
       "      <td>Ana Trujillo</td>\n",
       "      <td>Owner</td>\n",
       "      <td>Avda. de la Constitución 2222</td>\n",
       "      <td>México D.F.</td>\n",
       "      <td>Central America</td>\n",
       "      <td>05021</td>\n",
       "      <td>Mexico</td>\n",
       "      <td>(5) 555-4729</td>\n",
       "      <td>(5) 555-3745</td>\n",
       "    </tr>\n",
       "    <tr>\n",
       "      <th>2</th>\n",
       "      <td>ANTON</td>\n",
       "      <td>Antonio Moreno Taquería</td>\n",
       "      <td>Antonio Moreno</td>\n",
       "      <td>Owner</td>\n",
       "      <td>Mataderos  2312</td>\n",
       "      <td>México D.F.</td>\n",
       "      <td>Central America</td>\n",
       "      <td>05023</td>\n",
       "      <td>Mexico</td>\n",
       "      <td>(5) 555-3932</td>\n",
       "      <td>None</td>\n",
       "    </tr>\n",
       "    <tr>\n",
       "      <th>3</th>\n",
       "      <td>AROUT</td>\n",
       "      <td>Around the Horn</td>\n",
       "      <td>Thomas Hardy</td>\n",
       "      <td>Sales Representative</td>\n",
       "      <td>120 Hanover Sq.</td>\n",
       "      <td>London</td>\n",
       "      <td>British Isles</td>\n",
       "      <td>WA1 1DP</td>\n",
       "      <td>UK</td>\n",
       "      <td>(171) 555-7788</td>\n",
       "      <td>(171) 555-6750</td>\n",
       "    </tr>\n",
       "    <tr>\n",
       "      <th>4</th>\n",
       "      <td>BERGS</td>\n",
       "      <td>Berglunds snabbköp</td>\n",
       "      <td>Christina Berglund</td>\n",
       "      <td>Order Administrator</td>\n",
       "      <td>Berguvsvägen  8</td>\n",
       "      <td>Luleå</td>\n",
       "      <td>Northern Europe</td>\n",
       "      <td>S-958 22</td>\n",
       "      <td>Sweden</td>\n",
       "      <td>0921-12 34 65</td>\n",
       "      <td>0921-12 34 67</td>\n",
       "    </tr>\n",
       "  </tbody>\n",
       "</table>\n",
       "</div>"
      ],
      "text/plain": [
       "      Id                         CompanyName         ContactName  \\\n",
       "0  ALFKI                 Alfreds Futterkiste        Maria Anders   \n",
       "1  ANATR  Ana Trujillo Emparedados y helados        Ana Trujillo   \n",
       "2  ANTON             Antonio Moreno Taquería      Antonio Moreno   \n",
       "3  AROUT                     Around the Horn        Thomas Hardy   \n",
       "4  BERGS                  Berglunds snabbköp  Christina Berglund   \n",
       "\n",
       "           ContactTitle                        Address         City  \\\n",
       "0  Sales Representative                  Obere Str. 57       Berlin   \n",
       "1                 Owner  Avda. de la Constitución 2222  México D.F.   \n",
       "2                 Owner                Mataderos  2312  México D.F.   \n",
       "3  Sales Representative                120 Hanover Sq.       London   \n",
       "4   Order Administrator                Berguvsvägen  8        Luleå   \n",
       "\n",
       "            Region PostalCode  Country           Phone             Fax  \n",
       "0   Western Europe      12209  Germany     030-0074321     030-0076545  \n",
       "1  Central America      05021   Mexico    (5) 555-4729    (5) 555-3745  \n",
       "2  Central America      05023   Mexico    (5) 555-3932            None  \n",
       "3    British Isles    WA1 1DP       UK  (171) 555-7788  (171) 555-6750  \n",
       "4  Northern Europe   S-958 22   Sweden   0921-12 34 65   0921-12 34 67  "
      ]
     },
     "execution_count": 15,
     "metadata": {},
     "output_type": "execute_result"
    }
   ],
   "source": [
    "# I now want to get a sense of the Northwind customers and which region they're located\n",
    "dfCustomer.head()"
   ]
  },
  {
   "cell_type": "code",
   "execution_count": 16,
   "metadata": {},
   "outputs": [
    {
     "data": {
      "text/html": [
       "<div>\n",
       "<style scoped>\n",
       "    .dataframe tbody tr th:only-of-type {\n",
       "        vertical-align: middle;\n",
       "    }\n",
       "\n",
       "    .dataframe tbody tr th {\n",
       "        vertical-align: top;\n",
       "    }\n",
       "\n",
       "    .dataframe thead th {\n",
       "        text-align: right;\n",
       "    }\n",
       "</style>\n",
       "<table border=\"1\" class=\"dataframe\">\n",
       "  <thead>\n",
       "    <tr style=\"text-align: right;\">\n",
       "      <th></th>\n",
       "      <th>Id</th>\n",
       "      <th>CompanyName</th>\n",
       "      <th>ContactName</th>\n",
       "      <th>ContactTitle</th>\n",
       "      <th>Address</th>\n",
       "      <th>City</th>\n",
       "      <th>Region</th>\n",
       "      <th>PostalCode</th>\n",
       "      <th>Country</th>\n",
       "      <th>Phone</th>\n",
       "      <th>Fax</th>\n",
       "    </tr>\n",
       "  </thead>\n",
       "  <tbody>\n",
       "    <tr>\n",
       "      <th>86</th>\n",
       "      <td>WARTH</td>\n",
       "      <td>Wartian Herkku</td>\n",
       "      <td>Pirkko Koskitalo</td>\n",
       "      <td>Accounting Manager</td>\n",
       "      <td>Torikatu 38</td>\n",
       "      <td>Oulu</td>\n",
       "      <td>Scandinavia</td>\n",
       "      <td>90110</td>\n",
       "      <td>Finland</td>\n",
       "      <td>981-443655</td>\n",
       "      <td>981-443655</td>\n",
       "    </tr>\n",
       "    <tr>\n",
       "      <th>87</th>\n",
       "      <td>WELLI</td>\n",
       "      <td>Wellington Importadora</td>\n",
       "      <td>Paula Parente</td>\n",
       "      <td>Sales Manager</td>\n",
       "      <td>Rua do Mercado, 12</td>\n",
       "      <td>Resende</td>\n",
       "      <td>South America</td>\n",
       "      <td>08737-363</td>\n",
       "      <td>Brazil</td>\n",
       "      <td>(14) 555-8122</td>\n",
       "      <td>None</td>\n",
       "    </tr>\n",
       "    <tr>\n",
       "      <th>88</th>\n",
       "      <td>WHITC</td>\n",
       "      <td>White Clover Markets</td>\n",
       "      <td>Karl Jablonski</td>\n",
       "      <td>Owner</td>\n",
       "      <td>305 - 14th Ave. S. Suite 3B</td>\n",
       "      <td>Seattle</td>\n",
       "      <td>North America</td>\n",
       "      <td>98128</td>\n",
       "      <td>USA</td>\n",
       "      <td>(206) 555-4112</td>\n",
       "      <td>(206) 555-4115</td>\n",
       "    </tr>\n",
       "    <tr>\n",
       "      <th>89</th>\n",
       "      <td>WILMK</td>\n",
       "      <td>Wilman Kala</td>\n",
       "      <td>Matti Karttunen</td>\n",
       "      <td>Owner/Marketing Assistant</td>\n",
       "      <td>Keskuskatu 45</td>\n",
       "      <td>Helsinki</td>\n",
       "      <td>Scandinavia</td>\n",
       "      <td>21240</td>\n",
       "      <td>Finland</td>\n",
       "      <td>90-224 8858</td>\n",
       "      <td>90-224 8858</td>\n",
       "    </tr>\n",
       "    <tr>\n",
       "      <th>90</th>\n",
       "      <td>WOLZA</td>\n",
       "      <td>Wolski  Zajazd</td>\n",
       "      <td>Zbyszek Piestrzeniewicz</td>\n",
       "      <td>Owner</td>\n",
       "      <td>ul. Filtrowa 68</td>\n",
       "      <td>Warszawa</td>\n",
       "      <td>Eastern Europe</td>\n",
       "      <td>01-012</td>\n",
       "      <td>Poland</td>\n",
       "      <td>(26) 642-7012</td>\n",
       "      <td>(26) 642-7012</td>\n",
       "    </tr>\n",
       "  </tbody>\n",
       "</table>\n",
       "</div>"
      ],
      "text/plain": [
       "       Id             CompanyName              ContactName  \\\n",
       "86  WARTH          Wartian Herkku         Pirkko Koskitalo   \n",
       "87  WELLI  Wellington Importadora            Paula Parente   \n",
       "88  WHITC    White Clover Markets           Karl Jablonski   \n",
       "89  WILMK             Wilman Kala          Matti Karttunen   \n",
       "90  WOLZA          Wolski  Zajazd  Zbyszek Piestrzeniewicz   \n",
       "\n",
       "                 ContactTitle                      Address      City  \\\n",
       "86         Accounting Manager                  Torikatu 38      Oulu   \n",
       "87              Sales Manager           Rua do Mercado, 12   Resende   \n",
       "88                      Owner  305 - 14th Ave. S. Suite 3B   Seattle   \n",
       "89  Owner/Marketing Assistant                Keskuskatu 45  Helsinki   \n",
       "90                      Owner              ul. Filtrowa 68  Warszawa   \n",
       "\n",
       "            Region PostalCode  Country           Phone             Fax  \n",
       "86     Scandinavia      90110  Finland      981-443655      981-443655  \n",
       "87   South America  08737-363   Brazil   (14) 555-8122            None  \n",
       "88   North America      98128      USA  (206) 555-4112  (206) 555-4115  \n",
       "89     Scandinavia      21240  Finland     90-224 8858     90-224 8858  \n",
       "90  Eastern Europe     01-012   Poland   (26) 642-7012   (26) 642-7012  "
      ]
     },
     "execution_count": 16,
     "metadata": {},
     "output_type": "execute_result"
    }
   ],
   "source": [
    "dfCustomer.tail()"
   ]
  },
  {
   "cell_type": "markdown",
   "metadata": {},
   "source": [
    "**There are a total of 91 Northwind customers**"
   ]
  },
  {
   "cell_type": "markdown",
   "metadata": {},
   "source": [
    "&nbsp;"
   ]
  },
  {
   "cell_type": "code",
   "execution_count": 17,
   "metadata": {},
   "outputs": [
    {
     "data": {
      "text/plain": [
       "Western Europe     28\n",
       "North America      16\n",
       "South America      16\n",
       "Southern Europe    10\n",
       "British Isles       8\n",
       "Central America     5\n",
       "Northern Europe     4\n",
       "Scandinavia         3\n",
       "Eastern Europe      1\n",
       "Name: Region, dtype: int64"
      ]
     },
     "execution_count": 17,
     "metadata": {},
     "output_type": "execute_result"
    }
   ],
   "source": [
    "customer_by_region = pd.read_sql_query('''SELECT c.Region\n",
    "                                            FROM Customer c\n",
    "                                        ''', engine)\n",
    "\n",
    "customer_by_region['Region'].value_counts()"
   ]
  },
  {
   "cell_type": "markdown",
   "metadata": {},
   "source": [
    "**Overall, Northwind is a food distribution company with offices in London and the US.  They are a relatively small company comprising of 9 employees.  At quick glance, the London office appears to sell fewer products than the US.  Northwind has 91 customers and the regions customers are located are in the table above.  The top selling products are Beverages and Dairy Products.**"
   ]
  },
  {
   "cell_type": "markdown",
   "metadata": {},
   "source": [
    "---"
   ]
  },
  {
   "cell_type": "markdown",
   "metadata": {},
   "source": [
    "## Part 2: Hypothesis Testing"
   ]
  },
  {
   "cell_type": "markdown",
   "metadata": {},
   "source": [
    "Questions:\n",
    "\n",
    "1. Question 1: Does discount amount have a statistically significant effect on the quantity of a product in an order? If so, at what level(s) of discount?\n",
    "\n",
    "2. Question 2: Is there a statistically significant difference in USA vs. London employee performance?\n",
    "\n",
    "3. Question 3:  Is there a statistical significance between discounts given by USA vs. London employees?\n",
    "\n",
    "4. Question 4: Do USA or London employees have higher invoice totals?"
   ]
  },
  {
   "cell_type": "markdown",
   "metadata": {},
   "source": [
    "> ### Hypothesis 1: Does discount amount have a statistically significant effect on the quantity of a product in an order? If so, at what level(s) of discount?"
   ]
  },
  {
   "cell_type": "markdown",
   "metadata": {},
   "source": [
    "* $H_0$: The average number of products ordered is the same regardless of their being a discount\n",
    "\n",
    "\n",
    "* $H_\\alpha$: The average number of products ordered with a discount is either higher or lower than orders without a discount\n",
    "\n",
    "\n"
   ]
  },
  {
   "cell_type": "code",
   "execution_count": 54,
   "metadata": {},
   "outputs": [
    {
     "data": {
      "text/html": [
       "<div>\n",
       "<style scoped>\n",
       "    .dataframe tbody tr th:only-of-type {\n",
       "        vertical-align: middle;\n",
       "    }\n",
       "\n",
       "    .dataframe tbody tr th {\n",
       "        vertical-align: top;\n",
       "    }\n",
       "\n",
       "    .dataframe thead th {\n",
       "        text-align: right;\n",
       "    }\n",
       "</style>\n",
       "<table border=\"1\" class=\"dataframe\">\n",
       "  <thead>\n",
       "    <tr style=\"text-align: right;\">\n",
       "      <th></th>\n",
       "      <th>Quantity</th>\n",
       "      <th>Discount</th>\n",
       "    </tr>\n",
       "  </thead>\n",
       "  <tbody>\n",
       "    <tr>\n",
       "      <th>0</th>\n",
       "      <td>12</td>\n",
       "      <td>0.0</td>\n",
       "    </tr>\n",
       "    <tr>\n",
       "      <th>1</th>\n",
       "      <td>10</td>\n",
       "      <td>0.0</td>\n",
       "    </tr>\n",
       "    <tr>\n",
       "      <th>2</th>\n",
       "      <td>5</td>\n",
       "      <td>0.0</td>\n",
       "    </tr>\n",
       "    <tr>\n",
       "      <th>3</th>\n",
       "      <td>9</td>\n",
       "      <td>0.0</td>\n",
       "    </tr>\n",
       "    <tr>\n",
       "      <th>4</th>\n",
       "      <td>40</td>\n",
       "      <td>0.0</td>\n",
       "    </tr>\n",
       "  </tbody>\n",
       "</table>\n",
       "</div>"
      ],
      "text/plain": [
       "   Quantity  Discount\n",
       "0        12       0.0\n",
       "1        10       0.0\n",
       "2         5       0.0\n",
       "3         9       0.0\n",
       "4        40       0.0"
      ]
     },
     "execution_count": 54,
     "metadata": {},
     "output_type": "execute_result"
    }
   ],
   "source": [
    "# Extracting the dataset for question 1 as a pandas dataframe\n",
    "df1 = pd.read_sql_query('''SELECT Quantity, Discount FROM OrderDetail''', engine)\n",
    "df1.head()"
   ]
  },
  {
   "cell_type": "code",
   "execution_count": 19,
   "metadata": {},
   "outputs": [
    {
     "data": {
      "text/html": [
       "<div>\n",
       "<style scoped>\n",
       "    .dataframe tbody tr th:only-of-type {\n",
       "        vertical-align: middle;\n",
       "    }\n",
       "\n",
       "    .dataframe tbody tr th {\n",
       "        vertical-align: top;\n",
       "    }\n",
       "\n",
       "    .dataframe thead th {\n",
       "        text-align: right;\n",
       "    }\n",
       "</style>\n",
       "<table border=\"1\" class=\"dataframe\">\n",
       "  <thead>\n",
       "    <tr style=\"text-align: right;\">\n",
       "      <th></th>\n",
       "      <th>Quantity</th>\n",
       "      <th>Discount</th>\n",
       "    </tr>\n",
       "  </thead>\n",
       "  <tbody>\n",
       "    <tr>\n",
       "      <th>count</th>\n",
       "      <td>2155.000000</td>\n",
       "      <td>2155.000000</td>\n",
       "    </tr>\n",
       "    <tr>\n",
       "      <th>mean</th>\n",
       "      <td>23.812993</td>\n",
       "      <td>0.056167</td>\n",
       "    </tr>\n",
       "    <tr>\n",
       "      <th>std</th>\n",
       "      <td>19.022047</td>\n",
       "      <td>0.083450</td>\n",
       "    </tr>\n",
       "    <tr>\n",
       "      <th>min</th>\n",
       "      <td>1.000000</td>\n",
       "      <td>0.000000</td>\n",
       "    </tr>\n",
       "    <tr>\n",
       "      <th>25%</th>\n",
       "      <td>10.000000</td>\n",
       "      <td>0.000000</td>\n",
       "    </tr>\n",
       "    <tr>\n",
       "      <th>50%</th>\n",
       "      <td>20.000000</td>\n",
       "      <td>0.000000</td>\n",
       "    </tr>\n",
       "    <tr>\n",
       "      <th>75%</th>\n",
       "      <td>30.000000</td>\n",
       "      <td>0.100000</td>\n",
       "    </tr>\n",
       "    <tr>\n",
       "      <th>max</th>\n",
       "      <td>130.000000</td>\n",
       "      <td>0.250000</td>\n",
       "    </tr>\n",
       "  </tbody>\n",
       "</table>\n",
       "</div>"
      ],
      "text/plain": [
       "          Quantity     Discount\n",
       "count  2155.000000  2155.000000\n",
       "mean     23.812993     0.056167\n",
       "std      19.022047     0.083450\n",
       "min       1.000000     0.000000\n",
       "25%      10.000000     0.000000\n",
       "50%      20.000000     0.000000\n",
       "75%      30.000000     0.100000\n",
       "max     130.000000     0.250000"
      ]
     },
     "execution_count": 19,
     "metadata": {},
     "output_type": "execute_result"
    }
   ],
   "source": [
    "df1.describe()"
   ]
  },
  {
   "cell_type": "code",
   "execution_count": 20,
   "metadata": {},
   "outputs": [
    {
     "data": {
      "text/plain": [
       "0.00    1317\n",
       "0.05     185\n",
       "0.10     173\n",
       "0.20     161\n",
       "0.15     157\n",
       "0.25     154\n",
       "0.03       3\n",
       "0.02       2\n",
       "0.01       1\n",
       "0.04       1\n",
       "0.06       1\n",
       "Name: Discount, dtype: int64"
      ]
     },
     "execution_count": 20,
     "metadata": {},
     "output_type": "execute_result"
    }
   ],
   "source": [
    "df1.Discount.value_counts()"
   ]
  },
  {
   "cell_type": "code",
   "execution_count": 21,
   "metadata": {},
   "outputs": [],
   "source": [
    "# It might be best to drop discounts at 1%, 2%, 3%, 4% and 6% since they contribute very little to the dataset\n",
    "df1 = df1[df1.Discount.isin(['0.00', '0.05', '0.10', '0.15', '0.20', '0.25'])]"
   ]
  },
  {
   "cell_type": "code",
   "execution_count": 22,
   "metadata": {},
   "outputs": [],
   "source": [
    "#dfOrderDetail.sort_values(by='Discount', ascending=False)\n",
    "#create two data sets; one with the discount and one without\n",
    "no_discount = dfOrderDetail[dfOrderDetail['Discount'] == 0.0]['Quantity'].values\n",
    "discount = dfOrderDetail[dfOrderDetail['Discount'] != 0.0 ]['Quantity'].values"
   ]
  },
  {
   "cell_type": "code",
   "execution_count": 23,
   "metadata": {},
   "outputs": [
    {
     "data": {
      "image/png": "[encoded data removed]",
      "text/plain": [
       "<Figure size 576x432 with 2 Axes>"
      ]
     },
     "metadata": {
      "needs_background": "light"
     },
     "output_type": "display_data"
    }
   ],
   "source": [
    "# Plotting the number of orders and average quantity of items ordered with different levels of discount\n",
    "fig, (ax1, ax2) = plt.subplots(2, 1, figsize=(8,6))\n",
    "df1.groupby(['Discount'])['Quantity'].count().plot(kind='barh', ax=ax1, colors=['indianred', '#A0CAB2', '#67AA84', '#2A7F50', '#1A4C30', '#0D2618'])\n",
    "df1.groupby(['Discount'])['Quantity'].mean().plot(kind='barh', ax=ax2, colors=['indianred', '#A0CAB2', '#67AA84', '#2A7F50', '#1A4C30', '#0D2618'])\n",
    "ax1.set_title('Total number of items ordered')\n",
    "ax1.set_ylabel('Discount')\n",
    "ax2.set_ylabel('Discount')\n",
    "ax2.set_title('Average number of items ordered')\n",
    "ax1.set_yticklabels(['None', '5%', '10%', '15%', '20%', '25%'])\n",
    "ax2.set_yticklabels(['None', '5%', '10%', '15%', '20%', '25%'])\n",
    "fig.subplots_adjust(hspace=0.4);"
   ]
  },
  {
   "cell_type": "code",
   "execution_count": 51,
   "metadata": {},
   "outputs": [],
   "source": [
    "#find the mean and std for the two data sets\n",
    "mu_no_discount = no_discount.mean()\n",
    "mu_discount = discount.mean()\n",
    "std_no_discount = no_discount.std()\n",
    "std_discount = discount.std()"
   ]
  },
  {
   "cell_type": "code",
   "execution_count": 52,
   "metadata": {},
   "outputs": [
    {
     "name": "stdout",
     "output_type": "stream",
     "text": [
      "mu for no discount: 21.715261958997722\n",
      "mu for discount: 27.10978520286396\n",
      "\n",
      "\n",
      "std for no discount: 17.500845477669806\n",
      "std for discount: 20.759042075141373\n"
     ]
    }
   ],
   "source": [
    "print('mu for no discount:', mu_no_discount)\n",
    "print('mu for discount:', mu_discount)\n",
    "print('\\n')\n",
    "print('std for no discount:', std_no_discount) \n",
    "print('std for discount:', std_discount)"
   ]
  },
  {
   "cell_type": "code",
   "execution_count": 53,
   "metadata": {},
   "outputs": [
    {
     "data": {
      "text/plain": [
       "Ttest_indResult(statistic=-6.4785631962949015, pvalue=1.1440924523215966e-10)"
      ]
     },
     "execution_count": 53,
     "metadata": {},
     "output_type": "execute_result"
    }
   ],
   "source": [
    "stats.ttest_ind(no_discount, discount)"
   ]
  },
  {
   "cell_type": "markdown",
   "metadata": {},
   "source": [
    "___RESULT: The null hypothesis is rejected since the p value is 1.14 $e^{-10}$.   Having a discount or not does not affect price.___"
   ]
  },
  {
   "cell_type": "markdown",
   "metadata": {},
   "source": [
    "&nbsp;"
   ]
  },
  {
   "cell_type": "code",
   "execution_count": 26,
   "metadata": {},
   "outputs": [],
   "source": [
    "# Examing 5 discount datasets\n",
    "discount5 = dfOrderDetail[dfOrderDetail['Discount'] == 0.05]['Quantity'].values\n",
    "discount10 = dfOrderDetail[dfOrderDetail['Discount'] == 0.10]['Quantity'].values\n",
    "discount15 = dfOrderDetail[dfOrderDetail['Discount'] == 0.15]['Quantity'].values\n",
    "discount20 = dfOrderDetail[dfOrderDetail['Discount'] == 0.20]['Quantity'].values"
   ]
  },
  {
   "cell_type": "code",
   "execution_count": 27,
   "metadata": {},
   "outputs": [
    {
     "name": "stdout",
     "output_type": "stream",
     "text": [
      "mu for 5% discount:  28.01081081081081\n",
      "std for 5% discount:  22.12763691763768\n",
      "mu for 10% discount:  25.23699421965318\n",
      "std for 10% discount:  21.125181975751996\n",
      "mu for 15% discount:  28.38216560509554\n",
      "std for 15% discount:  20.85635892029252\n",
      "mu for 20% discount:  27.024844720496894\n",
      "std for 20% discount:  18.774222551927533\n"
     ]
    }
   ],
   "source": [
    "print('mu for 5% discount: ', discount5.mean())\n",
    "print('std for 5% discount: ', discount5.std())\n",
    "print('mu for 10% discount: ', discount10.mean())\n",
    "print('std for 10% discount: ', discount10.std())\n",
    "print('mu for 15% discount: ', discount15.mean())\n",
    "print('std for 15% discount: ', discount15.std())\n",
    "print('mu for 20% discount: ', discount20.mean())\n",
    "print('std for 20% discount: ', discount20.std())"
   ]
  },
  {
   "cell_type": "code",
   "execution_count": 28,
   "metadata": {},
   "outputs": [
    {
     "name": "stdout",
     "output_type": "stream",
     "text": [
      "Ttest_indResult(statistic=-4.418557901446638, pvalue=1.064949724167325e-05)\n",
      "Ttest_indResult(statistic=-2.423258752228738, pvalue=0.015500606526440095)\n",
      "Ttest_indResult(statistic=-4.411192556207304, pvalue=1.1027809944864872e-05)\n",
      "Ttest_indResult(statistic=-3.6019486047561884, pvalue=0.00032631258591041463)\n"
     ]
    }
   ],
   "source": [
    "print(stats.ttest_ind(no_discount, discount5))\n",
    "print(stats.ttest_ind(no_discount, discount10))\n",
    "print(stats.ttest_ind(no_discount, discount15))\n",
    "print(stats.ttest_ind(no_discount, discount20))"
   ]
  },
  {
   "cell_type": "markdown",
   "metadata": {},
   "source": [
    "_**RESULT: Similarily, the p values for each category are less than the test statistic.  So I will reject the null hypothesis.**_"
   ]
  },
  {
   "cell_type": "markdown",
   "metadata": {},
   "source": [
    "---"
   ]
  },
  {
   "cell_type": "markdown",
   "metadata": {},
   "source": [
    ">### Hypothesis 2: Is there a statistically significant difference in USA vs. London employee performance?"
   ]
  },
  {
   "cell_type": "markdown",
   "metadata": {},
   "source": [
    "$H_0$: There is no difference in performance between USA and London employees\n",
    "\n",
    "$H_\\alpha$: There is a difference in performance between USA and London employees"
   ]
  },
  {
   "cell_type": "code",
   "execution_count": 47,
   "metadata": {},
   "outputs": [
    {
     "data": {
      "text/html": [
       "<div>\n",
       "<style scoped>\n",
       "    .dataframe tbody tr th:only-of-type {\n",
       "        vertical-align: middle;\n",
       "    }\n",
       "\n",
       "    .dataframe tbody tr th {\n",
       "        vertical-align: top;\n",
       "    }\n",
       "\n",
       "    .dataframe thead th {\n",
       "        text-align: right;\n",
       "    }\n",
       "</style>\n",
       "<table border=\"1\" class=\"dataframe\">\n",
       "  <thead>\n",
       "    <tr style=\"text-align: right;\">\n",
       "      <th></th>\n",
       "      <th>EmployeeId</th>\n",
       "      <th>Country</th>\n",
       "      <th>Total_Orders</th>\n",
       "    </tr>\n",
       "  </thead>\n",
       "  <tbody>\n",
       "    <tr>\n",
       "      <th>0</th>\n",
       "      <td>1</td>\n",
       "      <td>USA</td>\n",
       "      <td>123</td>\n",
       "    </tr>\n",
       "    <tr>\n",
       "      <th>1</th>\n",
       "      <td>2</td>\n",
       "      <td>USA</td>\n",
       "      <td>96</td>\n",
       "    </tr>\n",
       "    <tr>\n",
       "      <th>2</th>\n",
       "      <td>3</td>\n",
       "      <td>USA</td>\n",
       "      <td>127</td>\n",
       "    </tr>\n",
       "    <tr>\n",
       "      <th>3</th>\n",
       "      <td>4</td>\n",
       "      <td>USA</td>\n",
       "      <td>156</td>\n",
       "    </tr>\n",
       "    <tr>\n",
       "      <th>4</th>\n",
       "      <td>5</td>\n",
       "      <td>UK</td>\n",
       "      <td>42</td>\n",
       "    </tr>\n",
       "    <tr>\n",
       "      <th>5</th>\n",
       "      <td>6</td>\n",
       "      <td>UK</td>\n",
       "      <td>67</td>\n",
       "    </tr>\n",
       "    <tr>\n",
       "      <th>6</th>\n",
       "      <td>7</td>\n",
       "      <td>UK</td>\n",
       "      <td>72</td>\n",
       "    </tr>\n",
       "    <tr>\n",
       "      <th>7</th>\n",
       "      <td>8</td>\n",
       "      <td>USA</td>\n",
       "      <td>104</td>\n",
       "    </tr>\n",
       "    <tr>\n",
       "      <th>8</th>\n",
       "      <td>9</td>\n",
       "      <td>UK</td>\n",
       "      <td>43</td>\n",
       "    </tr>\n",
       "  </tbody>\n",
       "</table>\n",
       "</div>"
      ],
      "text/plain": [
       "   EmployeeId Country  Total_Orders\n",
       "0           1     USA           123\n",
       "1           2     USA            96\n",
       "2           3     USA           127\n",
       "3           4     USA           156\n",
       "4           5      UK            42\n",
       "5           6      UK            67\n",
       "6           7      UK            72\n",
       "7           8     USA           104\n",
       "8           9      UK            43"
      ]
     },
     "execution_count": 47,
     "metadata": {},
     "output_type": "execute_result"
    }
   ],
   "source": [
    "# Incorporating the database\n",
    "employees_orders = pd.read_sql_query( '''\n",
    "                                    \n",
    "                                SELECT O.EmployeeId, E.Country, COUNT(O.Id) AS Total_Orders  \n",
    "                                FROM [Order] AS O\n",
    "                                JOIN Employee as E\n",
    "                                ON O.EmployeeId = E.Id\n",
    "                                GROUP BY O.EmployeeId\n",
    "                                \n",
    "                                ''' ,engine)\n",
    "employees_orders"
   ]
  },
  {
   "cell_type": "code",
   "execution_count": 30,
   "metadata": {},
   "outputs": [],
   "source": [
    "#find the mean and std for the two data sets\n",
    "usa = employees_orders[employees_orders.Country == 'USA']['Total_Orders']\n",
    "london  = employees_orders[employees_orders.Country == 'UK']['Total_Orders']"
   ]
  },
  {
   "cell_type": "code",
   "execution_count": 31,
   "metadata": {},
   "outputs": [],
   "source": [
    "mu_usa = usa.mean()\n",
    "std_usa = usa.std()\n",
    "mu_london = london.mean()\n",
    "std_london = london.std()"
   ]
  },
  {
   "cell_type": "code",
   "execution_count": 49,
   "metadata": {},
   "outputs": [
    {
     "name": "stdout",
     "output_type": "stream",
     "text": [
      "mu for usa: 0.05282923755513548\n",
      "std for usa: 0.0823848377442701\n",
      "\n",
      "\n",
      "mu for london: 0.06549295774647888\n",
      "std for london: 0.08574460634032187\n"
     ]
    }
   ],
   "source": [
    "print('mu for usa:', mu_usa)\n",
    "print('std for usa:', std_usa)\n",
    "print('\\n')\n",
    "print('mu for london:', mu_london)\n",
    "print('std for london:', std_london)"
   ]
  },
  {
   "cell_type": "code",
   "execution_count": 33,
   "metadata": {},
   "outputs": [
    {
     "data": {
      "text/plain": [
       "Ttest_indResult(statistic=4.758164460817313, pvalue=0.002063854331616113)"
      ]
     },
     "execution_count": 33,
     "metadata": {},
     "output_type": "execute_result"
    }
   ],
   "source": [
    "stats.ttest_ind(usa, london)"
   ]
  },
  {
   "cell_type": "markdown",
   "metadata": {},
   "source": [
    "_**RESULT: The p value is 0.002 which shows that I must reject the null hypothesis Result of the test shows that there is a statistically significant difference in employee performance between the 2 office.**_"
   ]
  },
  {
   "cell_type": "markdown",
   "metadata": {},
   "source": [
    "---"
   ]
  },
  {
   "cell_type": "markdown",
   "metadata": {},
   "source": [
    ">### Hypothesis 3:  Is there a statistical significance between discounts given by USA vs. London employees?"
   ]
  },
  {
   "cell_type": "markdown",
   "metadata": {},
   "source": [
    "$H_0$: There is no difference in discounts given by from USA and London employees\n",
    "\n",
    "$H_\\alpha$: There is a difference in discounts given by from USA and London employees"
   ]
  },
  {
   "cell_type": "code",
   "execution_count": 34,
   "metadata": {},
   "outputs": [
    {
     "data": {
      "text/html": [
       "<div>\n",
       "<style scoped>\n",
       "    .dataframe tbody tr th:only-of-type {\n",
       "        vertical-align: middle;\n",
       "    }\n",
       "\n",
       "    .dataframe tbody tr th {\n",
       "        vertical-align: top;\n",
       "    }\n",
       "\n",
       "    .dataframe thead th {\n",
       "        text-align: right;\n",
       "    }\n",
       "</style>\n",
       "<table border=\"1\" class=\"dataframe\">\n",
       "  <thead>\n",
       "    <tr style=\"text-align: right;\">\n",
       "      <th></th>\n",
       "      <th>Discount</th>\n",
       "      <th>Country</th>\n",
       "    </tr>\n",
       "  </thead>\n",
       "  <tbody>\n",
       "    <tr>\n",
       "      <th>0</th>\n",
       "      <td>0.00</td>\n",
       "      <td>UK</td>\n",
       "    </tr>\n",
       "    <tr>\n",
       "      <th>1</th>\n",
       "      <td>0.00</td>\n",
       "      <td>UK</td>\n",
       "    </tr>\n",
       "    <tr>\n",
       "      <th>2</th>\n",
       "      <td>0.00</td>\n",
       "      <td>UK</td>\n",
       "    </tr>\n",
       "    <tr>\n",
       "      <th>3</th>\n",
       "      <td>0.00</td>\n",
       "      <td>UK</td>\n",
       "    </tr>\n",
       "    <tr>\n",
       "      <th>4</th>\n",
       "      <td>0.00</td>\n",
       "      <td>UK</td>\n",
       "    </tr>\n",
       "    <tr>\n",
       "      <th>5</th>\n",
       "      <td>0.00</td>\n",
       "      <td>USA</td>\n",
       "    </tr>\n",
       "    <tr>\n",
       "      <th>6</th>\n",
       "      <td>0.15</td>\n",
       "      <td>USA</td>\n",
       "    </tr>\n",
       "    <tr>\n",
       "      <th>7</th>\n",
       "      <td>0.15</td>\n",
       "      <td>USA</td>\n",
       "    </tr>\n",
       "    <tr>\n",
       "      <th>8</th>\n",
       "      <td>0.05</td>\n",
       "      <td>USA</td>\n",
       "    </tr>\n",
       "    <tr>\n",
       "      <th>9</th>\n",
       "      <td>0.05</td>\n",
       "      <td>USA</td>\n",
       "    </tr>\n",
       "    <tr>\n",
       "      <th>10</th>\n",
       "      <td>0.00</td>\n",
       "      <td>USA</td>\n",
       "    </tr>\n",
       "    <tr>\n",
       "      <th>11</th>\n",
       "      <td>0.05</td>\n",
       "      <td>USA</td>\n",
       "    </tr>\n",
       "    <tr>\n",
       "      <th>12</th>\n",
       "      <td>0.05</td>\n",
       "      <td>USA</td>\n",
       "    </tr>\n",
       "    <tr>\n",
       "      <th>13</th>\n",
       "      <td>0.00</td>\n",
       "      <td>USA</td>\n",
       "    </tr>\n",
       "    <tr>\n",
       "      <th>14</th>\n",
       "      <td>0.00</td>\n",
       "      <td>USA</td>\n",
       "    </tr>\n",
       "    <tr>\n",
       "      <th>15</th>\n",
       "      <td>0.00</td>\n",
       "      <td>USA</td>\n",
       "    </tr>\n",
       "    <tr>\n",
       "      <th>16</th>\n",
       "      <td>0.00</td>\n",
       "      <td>USA</td>\n",
       "    </tr>\n",
       "    <tr>\n",
       "      <th>17</th>\n",
       "      <td>0.15</td>\n",
       "      <td>UK</td>\n",
       "    </tr>\n",
       "    <tr>\n",
       "      <th>18</th>\n",
       "      <td>0.15</td>\n",
       "      <td>UK</td>\n",
       "    </tr>\n",
       "    <tr>\n",
       "      <th>19</th>\n",
       "      <td>0.00</td>\n",
       "      <td>UK</td>\n",
       "    </tr>\n",
       "    <tr>\n",
       "      <th>20</th>\n",
       "      <td>0.00</td>\n",
       "      <td>UK</td>\n",
       "    </tr>\n",
       "    <tr>\n",
       "      <th>21</th>\n",
       "      <td>0.00</td>\n",
       "      <td>UK</td>\n",
       "    </tr>\n",
       "    <tr>\n",
       "      <th>22</th>\n",
       "      <td>0.00</td>\n",
       "      <td>UK</td>\n",
       "    </tr>\n",
       "    <tr>\n",
       "      <th>23</th>\n",
       "      <td>0.00</td>\n",
       "      <td>UK</td>\n",
       "    </tr>\n",
       "    <tr>\n",
       "      <th>24</th>\n",
       "      <td>0.00</td>\n",
       "      <td>USA</td>\n",
       "    </tr>\n",
       "    <tr>\n",
       "      <th>25</th>\n",
       "      <td>0.00</td>\n",
       "      <td>USA</td>\n",
       "    </tr>\n",
       "    <tr>\n",
       "      <th>26</th>\n",
       "      <td>0.00</td>\n",
       "      <td>USA</td>\n",
       "    </tr>\n",
       "    <tr>\n",
       "      <th>27</th>\n",
       "      <td>0.00</td>\n",
       "      <td>USA</td>\n",
       "    </tr>\n",
       "    <tr>\n",
       "      <th>28</th>\n",
       "      <td>0.00</td>\n",
       "      <td>USA</td>\n",
       "    </tr>\n",
       "    <tr>\n",
       "      <th>29</th>\n",
       "      <td>0.20</td>\n",
       "      <td>USA</td>\n",
       "    </tr>\n",
       "    <tr>\n",
       "      <th>...</th>\n",
       "      <td>...</td>\n",
       "      <td>...</td>\n",
       "    </tr>\n",
       "    <tr>\n",
       "      <th>2125</th>\n",
       "      <td>0.15</td>\n",
       "      <td>USA</td>\n",
       "    </tr>\n",
       "    <tr>\n",
       "      <th>2126</th>\n",
       "      <td>0.15</td>\n",
       "      <td>USA</td>\n",
       "    </tr>\n",
       "    <tr>\n",
       "      <th>2127</th>\n",
       "      <td>0.25</td>\n",
       "      <td>USA</td>\n",
       "    </tr>\n",
       "    <tr>\n",
       "      <th>2128</th>\n",
       "      <td>0.25</td>\n",
       "      <td>USA</td>\n",
       "    </tr>\n",
       "    <tr>\n",
       "      <th>2129</th>\n",
       "      <td>0.25</td>\n",
       "      <td>USA</td>\n",
       "    </tr>\n",
       "    <tr>\n",
       "      <th>2130</th>\n",
       "      <td>0.20</td>\n",
       "      <td>USA</td>\n",
       "    </tr>\n",
       "    <tr>\n",
       "      <th>2131</th>\n",
       "      <td>0.00</td>\n",
       "      <td>USA</td>\n",
       "    </tr>\n",
       "    <tr>\n",
       "      <th>2132</th>\n",
       "      <td>0.00</td>\n",
       "      <td>USA</td>\n",
       "    </tr>\n",
       "    <tr>\n",
       "      <th>2133</th>\n",
       "      <td>0.02</td>\n",
       "      <td>USA</td>\n",
       "    </tr>\n",
       "    <tr>\n",
       "      <th>2134</th>\n",
       "      <td>0.05</td>\n",
       "      <td>USA</td>\n",
       "    </tr>\n",
       "    <tr>\n",
       "      <th>2135</th>\n",
       "      <td>0.10</td>\n",
       "      <td>USA</td>\n",
       "    </tr>\n",
       "    <tr>\n",
       "      <th>2136</th>\n",
       "      <td>0.00</td>\n",
       "      <td>USA</td>\n",
       "    </tr>\n",
       "    <tr>\n",
       "      <th>2137</th>\n",
       "      <td>0.05</td>\n",
       "      <td>USA</td>\n",
       "    </tr>\n",
       "    <tr>\n",
       "      <th>2138</th>\n",
       "      <td>0.00</td>\n",
       "      <td>USA</td>\n",
       "    </tr>\n",
       "    <tr>\n",
       "      <th>2139</th>\n",
       "      <td>0.03</td>\n",
       "      <td>USA</td>\n",
       "    </tr>\n",
       "    <tr>\n",
       "      <th>2140</th>\n",
       "      <td>0.03</td>\n",
       "      <td>USA</td>\n",
       "    </tr>\n",
       "    <tr>\n",
       "      <th>2141</th>\n",
       "      <td>0.04</td>\n",
       "      <td>USA</td>\n",
       "    </tr>\n",
       "    <tr>\n",
       "      <th>2142</th>\n",
       "      <td>0.00</td>\n",
       "      <td>USA</td>\n",
       "    </tr>\n",
       "    <tr>\n",
       "      <th>2143</th>\n",
       "      <td>0.00</td>\n",
       "      <td>USA</td>\n",
       "    </tr>\n",
       "    <tr>\n",
       "      <th>2144</th>\n",
       "      <td>0.05</td>\n",
       "      <td>USA</td>\n",
       "    </tr>\n",
       "    <tr>\n",
       "      <th>2145</th>\n",
       "      <td>0.00</td>\n",
       "      <td>USA</td>\n",
       "    </tr>\n",
       "    <tr>\n",
       "      <th>2146</th>\n",
       "      <td>0.02</td>\n",
       "      <td>USA</td>\n",
       "    </tr>\n",
       "    <tr>\n",
       "      <th>2147</th>\n",
       "      <td>0.00</td>\n",
       "      <td>USA</td>\n",
       "    </tr>\n",
       "    <tr>\n",
       "      <th>2148</th>\n",
       "      <td>0.00</td>\n",
       "      <td>USA</td>\n",
       "    </tr>\n",
       "    <tr>\n",
       "      <th>2149</th>\n",
       "      <td>0.06</td>\n",
       "      <td>USA</td>\n",
       "    </tr>\n",
       "    <tr>\n",
       "      <th>2150</th>\n",
       "      <td>0.03</td>\n",
       "      <td>USA</td>\n",
       "    </tr>\n",
       "    <tr>\n",
       "      <th>2151</th>\n",
       "      <td>0.00</td>\n",
       "      <td>USA</td>\n",
       "    </tr>\n",
       "    <tr>\n",
       "      <th>2152</th>\n",
       "      <td>0.01</td>\n",
       "      <td>USA</td>\n",
       "    </tr>\n",
       "    <tr>\n",
       "      <th>2153</th>\n",
       "      <td>0.00</td>\n",
       "      <td>USA</td>\n",
       "    </tr>\n",
       "    <tr>\n",
       "      <th>2154</th>\n",
       "      <td>0.00</td>\n",
       "      <td>USA</td>\n",
       "    </tr>\n",
       "  </tbody>\n",
       "</table>\n",
       "<p>2155 rows × 2 columns</p>\n",
       "</div>"
      ],
      "text/plain": [
       "      Discount Country\n",
       "0         0.00      UK\n",
       "1         0.00      UK\n",
       "2         0.00      UK\n",
       "3         0.00      UK\n",
       "4         0.00      UK\n",
       "5         0.00     USA\n",
       "6         0.15     USA\n",
       "7         0.15     USA\n",
       "8         0.05     USA\n",
       "9         0.05     USA\n",
       "10        0.00     USA\n",
       "11        0.05     USA\n",
       "12        0.05     USA\n",
       "13        0.00     USA\n",
       "14        0.00     USA\n",
       "15        0.00     USA\n",
       "16        0.00     USA\n",
       "17        0.15      UK\n",
       "18        0.15      UK\n",
       "19        0.00      UK\n",
       "20        0.00      UK\n",
       "21        0.00      UK\n",
       "22        0.00      UK\n",
       "23        0.00      UK\n",
       "24        0.00     USA\n",
       "25        0.00     USA\n",
       "26        0.00     USA\n",
       "27        0.00     USA\n",
       "28        0.00     USA\n",
       "29        0.20     USA\n",
       "...        ...     ...\n",
       "2125      0.15     USA\n",
       "2126      0.15     USA\n",
       "2127      0.25     USA\n",
       "2128      0.25     USA\n",
       "2129      0.25     USA\n",
       "2130      0.20     USA\n",
       "2131      0.00     USA\n",
       "2132      0.00     USA\n",
       "2133      0.02     USA\n",
       "2134      0.05     USA\n",
       "2135      0.10     USA\n",
       "2136      0.00     USA\n",
       "2137      0.05     USA\n",
       "2138      0.00     USA\n",
       "2139      0.03     USA\n",
       "2140      0.03     USA\n",
       "2141      0.04     USA\n",
       "2142      0.00     USA\n",
       "2143      0.00     USA\n",
       "2144      0.05     USA\n",
       "2145      0.00     USA\n",
       "2146      0.02     USA\n",
       "2147      0.00     USA\n",
       "2148      0.00     USA\n",
       "2149      0.06     USA\n",
       "2150      0.03     USA\n",
       "2151      0.00     USA\n",
       "2152      0.01     USA\n",
       "2153      0.00     USA\n",
       "2154      0.00     USA\n",
       "\n",
       "[2155 rows x 2 columns]"
      ]
     },
     "execution_count": 34,
     "metadata": {},
     "output_type": "execute_result"
    }
   ],
   "source": [
    "# Incorporating the database\n",
    "us_london_discount = pd.read_sql_query('''\n",
    "\n",
    "                    SELECT OD.Discount, E.Country FROM [Order] AS O\n",
    "                    JOIN OrderDetail AS OD ON O.Id = OD.OrderId\n",
    "                    JOIN Employee AS E ON O.EmployeeId = E.Id\n",
    "\n",
    "                    ''', engine)\n",
    "us_london_discount"
   ]
  },
  {
   "cell_type": "code",
   "execution_count": 35,
   "metadata": {},
   "outputs": [],
   "source": [
    "#find the mean and std for the two data sets\n",
    "usa = us_london_discount[us_london_discount.Country == 'USA']['Discount']\n",
    "london  = us_london_discount[us_london_discount.Country == 'UK']['Discount']"
   ]
  },
  {
   "cell_type": "code",
   "execution_count": 36,
   "metadata": {},
   "outputs": [],
   "source": [
    "mu_usa = usa.mean()\n",
    "std_usa = usa.std()\n",
    "mu_london = london.mean()\n",
    "std_london = london.std()"
   ]
  },
  {
   "cell_type": "code",
   "execution_count": 48,
   "metadata": {},
   "outputs": [
    {
     "name": "stdout",
     "output_type": "stream",
     "text": [
      "mu for usa: 0.05282923755513548\n",
      "std for usa: 0.0823848377442701\n",
      "\n",
      "\n",
      "mu for london: 0.06549295774647888\n",
      "std for london: 0.08574460634032187\n"
     ]
    }
   ],
   "source": [
    "print('mu for usa:', mu_usa)\n",
    "print('std for usa:', std_usa)\n",
    "print('\\n')\n",
    "print('mu for london:', mu_london)\n",
    "print('std for london:', std_london)"
   ]
  },
  {
   "cell_type": "code",
   "execution_count": 38,
   "metadata": {},
   "outputs": [
    {
     "data": {
      "text/plain": [
       "Ttest_indResult(statistic=-3.109889948576017, pvalue=0.0018960759380324476)"
      ]
     },
     "execution_count": 38,
     "metadata": {},
     "output_type": "execute_result"
    }
   ],
   "source": [
    "stats.ttest_ind(usa, london)"
   ]
  },
  {
   "cell_type": "code",
   "execution_count": null,
   "metadata": {},
   "outputs": [],
   "source": []
  },
  {
   "cell_type": "markdown",
   "metadata": {},
   "source": [
    "_**RESULT: There is statistically significant difference in discount amount between employees from USA and London.  This result shows we must reject null hypothesis.**_"
   ]
  },
  {
   "cell_type": "markdown",
   "metadata": {},
   "source": [
    "---"
   ]
  },
  {
   "cell_type": "markdown",
   "metadata": {},
   "source": [
    ">### Hypothesis 4: Do USA or London employees have higher invoice totals?"
   ]
  },
  {
   "cell_type": "markdown",
   "metadata": {},
   "source": [
    "$H_0$: London invoice totals are higher than USA invoices totals\n",
    "\n",
    "$H_\\alpha$: London invoice totals are lower than USA invoice totals"
   ]
  },
  {
   "cell_type": "code",
   "execution_count": 39,
   "metadata": {},
   "outputs": [],
   "source": [
    "#A way of measuring \"effect\" relative to the parameters of the\n",
    "#control and treatment groups.\n",
    "# 0.2 may be considered a \"small\" effect; 0.5 \"medium\"; 0.8 \"large\"\n",
    "def cohend(control, treatment):\n",
    "    numer = control.mean() - treatment.mean()\n",
    "    var = ((len(control) * control.var()) + (len(treatment) * treatment.var())) / len(control) + len(treatment)\n",
    "    denom = np.sqrt(var)\n",
    "    return numer / denom"
   ]
  },
  {
   "cell_type": "code",
   "execution_count": 40,
   "metadata": {},
   "outputs": [],
   "source": [
    "#Get invoice totals for employees in the USA offices\n",
    "usa_invoices = pd.read_sql_query('''SELECT od.OrderId,\n",
    "                            SUM((od.UnitPrice * (1 - od.Discount)) * od.Quantity) Invoice_total\n",
    "                            FROM OrderDetail od\n",
    "                            JOIN [Order] o ON od.OrderId = o.Id\n",
    "                            JOIN Employee e ON o.EmployeeId = e.Id\n",
    "                            WHERE e.City != \"London\"\n",
    "                            GROUP BY od.OrderId\n",
    "                            ORDER BY e.LastName\n",
    "                    ''', engine)"
   ]
  },
  {
   "cell_type": "code",
   "execution_count": 41,
   "metadata": {},
   "outputs": [],
   "source": [
    "#Get invoice totals for employees in the London office\n",
    "london_invoices = pd.read_sql_query('''SELECT od.OrderId,\n",
    "                            SUM((od.UnitPrice * (1 - od.Discount)) * od.Quantity) Invoice_total\n",
    "                            FROM OrderDetail od\n",
    "                            JOIN [Order] o ON od.OrderId = o.Id\n",
    "                            JOIN Employee e ON o.EmployeeId = e.Id\n",
    "                            WHERE e.City = \"London\"\n",
    "                            GROUP BY od.OrderId\n",
    "                            ORDER BY e.LastName\n",
    "                    ''', engine)"
   ]
  },
  {
   "cell_type": "code",
   "execution_count": 42,
   "metadata": {},
   "outputs": [
    {
     "data": {
      "text/html": [
       "<div>\n",
       "<style scoped>\n",
       "    .dataframe tbody tr th:only-of-type {\n",
       "        vertical-align: middle;\n",
       "    }\n",
       "\n",
       "    .dataframe tbody tr th {\n",
       "        vertical-align: top;\n",
       "    }\n",
       "\n",
       "    .dataframe thead th {\n",
       "        text-align: right;\n",
       "    }\n",
       "</style>\n",
       "<table border=\"1\" class=\"dataframe\">\n",
       "  <thead>\n",
       "    <tr style=\"text-align: right;\">\n",
       "      <th></th>\n",
       "      <th>OrderId</th>\n",
       "      <th>Invoice_total</th>\n",
       "    </tr>\n",
       "  </thead>\n",
       "  <tbody>\n",
       "    <tr>\n",
       "      <th>0</th>\n",
       "      <td>10262</td>\n",
       "      <td>584.0</td>\n",
       "    </tr>\n",
       "    <tr>\n",
       "      <th>1</th>\n",
       "      <td>10268</td>\n",
       "      <td>1101.2</td>\n",
       "    </tr>\n",
       "    <tr>\n",
       "      <th>2</th>\n",
       "      <td>10276</td>\n",
       "      <td>420.0</td>\n",
       "    </tr>\n",
       "    <tr>\n",
       "      <th>3</th>\n",
       "      <td>10278</td>\n",
       "      <td>1488.8</td>\n",
       "    </tr>\n",
       "    <tr>\n",
       "      <th>4</th>\n",
       "      <td>10279</td>\n",
       "      <td>351.0</td>\n",
       "    </tr>\n",
       "  </tbody>\n",
       "</table>\n",
       "</div>"
      ],
      "text/plain": [
       "   OrderId  Invoice_total\n",
       "0    10262          584.0\n",
       "1    10268         1101.2\n",
       "2    10276          420.0\n",
       "3    10278         1488.8\n",
       "4    10279          351.0"
      ]
     },
     "execution_count": 42,
     "metadata": {},
     "output_type": "execute_result"
    }
   ],
   "source": [
    "usa_invoices.head()"
   ]
  },
  {
   "cell_type": "code",
   "execution_count": 43,
   "metadata": {},
   "outputs": [
    {
     "data": {
      "text/html": [
       "<div>\n",
       "<style scoped>\n",
       "    .dataframe tbody tr th:only-of-type {\n",
       "        vertical-align: middle;\n",
       "    }\n",
       "\n",
       "    .dataframe tbody tr th {\n",
       "        vertical-align: top;\n",
       "    }\n",
       "\n",
       "    .dataframe thead th {\n",
       "        text-align: right;\n",
       "    }\n",
       "</style>\n",
       "<table border=\"1\" class=\"dataframe\">\n",
       "  <thead>\n",
       "    <tr style=\"text-align: right;\">\n",
       "      <th></th>\n",
       "      <th>OrderId</th>\n",
       "      <th>Invoice_total</th>\n",
       "    </tr>\n",
       "  </thead>\n",
       "  <tbody>\n",
       "    <tr>\n",
       "      <th>0</th>\n",
       "      <td>10248</td>\n",
       "      <td>440.00</td>\n",
       "    </tr>\n",
       "    <tr>\n",
       "      <th>1</th>\n",
       "      <td>10254</td>\n",
       "      <td>556.62</td>\n",
       "    </tr>\n",
       "    <tr>\n",
       "      <th>2</th>\n",
       "      <td>10269</td>\n",
       "      <td>642.20</td>\n",
       "    </tr>\n",
       "    <tr>\n",
       "      <th>3</th>\n",
       "      <td>10297</td>\n",
       "      <td>1420.00</td>\n",
       "    </tr>\n",
       "    <tr>\n",
       "      <th>4</th>\n",
       "      <td>10320</td>\n",
       "      <td>516.00</td>\n",
       "    </tr>\n",
       "  </tbody>\n",
       "</table>\n",
       "</div>"
      ],
      "text/plain": [
       "   OrderId  Invoice_total\n",
       "0    10248         440.00\n",
       "1    10254         556.62\n",
       "2    10269         642.20\n",
       "3    10297        1420.00\n",
       "4    10320         516.00"
      ]
     },
     "execution_count": 43,
     "metadata": {},
     "output_type": "execute_result"
    }
   ],
   "source": [
    "#Taking a look at the data\n",
    "london_invoices.head()"
   ]
  },
  {
   "cell_type": "code",
   "execution_count": 44,
   "metadata": {},
   "outputs": [],
   "source": [
    "#Value to compare to p-value\n",
    "alpha = 0.05\n",
    "\n",
    "#A control group from the London invoices\n",
    "#A treatment group from the USA invoices\n",
    "control2 = london_invoices['Invoice_total']\n",
    "treatment2 = usa_invoices['Invoice_total']"
   ]
  },
  {
   "cell_type": "code",
   "execution_count": 45,
   "metadata": {},
   "outputs": [
    {
     "name": "stdout",
     "output_type": "stream",
     "text": [
      "USA invoice mu: 1520.150702970297\n",
      "Number of USA invoices: 606\n",
      "\n",
      "\n",
      "London invoice mu: 1538.3112209821427\n",
      "Number of London invoices: 224\n"
     ]
    }
   ],
   "source": [
    "print('USA invoice mu:', treatment2.mean())\n",
    "print('Number of USA invoices:', len(treatment2))\n",
    "print('\\n')\n",
    "print('London invoice mu:', control2.mean())\n",
    "print('Number of London invoices:', len(control2))"
   ]
  },
  {
   "cell_type": "code",
   "execution_count": 46,
   "metadata": {},
   "outputs": [
    {
     "name": "stdout",
     "output_type": "stream",
     "text": [
      "T stat is 0.12383782386231988\n",
      "P-value is 0.9015080381474158\n",
      "Cohen's D is 0.005109731621820012\n"
     ]
    }
   ],
   "source": [
    "t2, p2 = stats.ttest_ind(control2,treatment2, equal_var = False)\n",
    "print('T stat is', t2)\n",
    "print('P-value is', p2)\n",
    "if p2 > alpha:\n",
    "    print('Cohen\\'s D is', cohend(control2, treatment2))"
   ]
  },
  {
   "cell_type": "markdown",
   "metadata": {},
   "source": [
    "_**RESULT: The p value is 0.90, which is greater than 0.05, so we must fail to reject the null hypothesis.**_"
   ]
  },
  {
   "cell_type": "markdown",
   "metadata": {},
   "source": [
    "---"
   ]
  },
  {
   "cell_type": "markdown",
   "metadata": {},
   "source": [
    "### Conclusions:"
   ]
  },
  {
   "cell_type": "markdown",
   "metadata": {},
   "source": [
    "- Hypothesis 1: There is a significant increase in quantity of products ordered when a discount is applied or not\n",
    "\n",
    "- Hypothesis 2: There is statistically significant difference in orders quantity between two groups of employees from USA and London\n",
    "\n",
    "- Hypothesis 3: Results shows there is statistically significant difference in discount amount between employees from USA and London\n",
    "\n",
    "- Hypothesis 4: Invoice totals from the London office are just about average (or higher) when compared to the USA offices.\n"
   ]
  }
 ],
 "metadata": {
  "kernelspec": {
   "display_name": "learn-env",
   "language": "python",
   "name": "learn-env"
  },
  "language_info": {
   "codemirror_mode": {
    "name": "ipython",
    "version": 3
   },
   "file_extension": ".py",
   "mimetype": "text/x-python",
   "name": "python",
   "nbconvert_exporter": "python",
   "pygments_lexer": "ipython3",
   "version": "3.6.6"
  }
 },
 "nbformat": 4,
 "nbformat_minor": 2
}
